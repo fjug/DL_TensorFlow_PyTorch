{
 "cells": [
  {
   "cell_type": "code",
   "execution_count": 1,
   "id": "ranging-participant",
   "metadata": {},
   "outputs": [],
   "source": [
    "from torch.utils.data import DataLoader, Dataset, IterableDataset\n",
    "from torchvision import transforms\n",
    "\n",
    "import torch\n",
    "\n",
    "import numpy as np\n",
    "\n",
    "from time import sleep, time"
   ]
  },
  {
   "cell_type": "markdown",
   "id": "exempt-comment",
   "metadata": {},
   "source": [
    "# Dataset\n",
    "A PyTorch `DataLoader` expects a `Dataset`. The default `Dataset` is essentially a `map`, which allows random access. There exists also `IterableDataset` which can be used with generators.\n",
    "\n",
    "For more information checkout the PyTorch-Documentation](https://pytorch.org/docs/stable/data.html#dataset-types)."
   ]
  },
  {
   "cell_type": "code",
   "execution_count": 2,
   "id": "dried-hawaiian",
   "metadata": {},
   "outputs": [],
   "source": [
    "class MyDataset(Dataset):\n",
    "    def __init__(self):\n",
    "        super(MyDataset).__init__()\n",
    "        self.data = np.arange(44)\n",
    "        self.data.shape = (self.data.shape[0], 1, 1, 1)\n",
    "        self.transform = transforms.Compose([\n",
    "            transforms.ToTensor()\n",
    "        ])\n",
    "        \n",
    "    def __getitem__(self, index):\n",
    "        # small data-prep. simulation delay\n",
    "        sleep(0.5)\n",
    "        return self.transform(self.data[index]), self.transform(-self.data[index])\n",
    "    \n",
    "    def __len__(self):\n",
    "        return len(self.data)"
   ]
  },
  {
   "cell_type": "code",
   "execution_count": 3,
   "id": "instrumental-heavy",
   "metadata": {},
   "outputs": [],
   "source": [
    "def _gen(data):\n",
    "    for d in data:\n",
    "        # small data-prep. simulation delay\n",
    "        sleep(0.5)\n",
    "        yield d, -d\n",
    "\n",
    "class MyIterableDataset(IterableDataset):\n",
    "    \n",
    "    def __init__(self):\n",
    "        self.data = None \n",
    "            \n",
    "        \n",
    "    def __iter__(self):\n",
    "        worker_info = torch.utils.data.get_worker_info()\n",
    "        if worker_info is None:\n",
    "            data = np.arange(44)\n",
    "            data.shape = (data.shape[0], 1, 1, 1)\n",
    "            data = torch.from_numpy(data)\n",
    "            return _gen(data)\n",
    "        else:\n",
    "            start = worker_info.id\n",
    "            step = worker_info.num_workers\n",
    "            data = np.arange(start, 44, step)\n",
    "            data.shape = (data.shape[0], 1, 1, 1)\n",
    "            data = torch.from_numpy(data)\n",
    "            return _gen(data)"
   ]
  },
  {
   "cell_type": "markdown",
   "id": "bright-egypt",
   "metadata": {},
   "source": [
    "## DataLoader\n",
    "We can now use `DataLoader` to get batches from our dataset. By default the `DataLoader` runs on the main-thread and returns all data-points in batches. The last batch is smaller, if the dataset is not divisible by `batch_size`."
   ]
  },
  {
   "cell_type": "markdown",
   "id": "great-sauce",
   "metadata": {},
   "source": [
    "### Map Dataset"
   ]
  },
  {
   "cell_type": "code",
   "execution_count": 4,
   "id": "chief-passage",
   "metadata": {},
   "outputs": [],
   "source": [
    "ds = MyDataset()"
   ]
  },
  {
   "cell_type": "code",
   "execution_count": 5,
   "id": "impossible-summer",
   "metadata": {},
   "outputs": [],
   "source": [
    "dl = DataLoader(ds, batch_size=8)"
   ]
  },
  {
   "cell_type": "code",
   "execution_count": 6,
   "id": "central-evolution",
   "metadata": {},
   "outputs": [
    {
     "name": "stdout",
     "output_type": "stream",
     "text": [
      "torch.Size([8, 1, 1, 1]) torch.Size([8, 1, 1, 1])\n",
      "-----------------------------------------------\n",
      "x: tensor([0, 1, 2, 3, 4, 5, 6, 7])\n",
      "y: tensor([ 0, -1, -2, -3, -4, -5, -6, -7])\n",
      "-----------------------------------------------\n",
      "torch.Size([8, 1, 1, 1]) torch.Size([8, 1, 1, 1])\n",
      "-----------------------------------------------\n",
      "x: tensor([ 8,  9, 10, 11, 12, 13, 14, 15])\n",
      "y: tensor([ -8,  -9, -10, -11, -12, -13, -14, -15])\n",
      "-----------------------------------------------\n",
      "torch.Size([8, 1, 1, 1]) torch.Size([8, 1, 1, 1])\n",
      "-----------------------------------------------\n",
      "x: tensor([16, 17, 18, 19, 20, 21, 22, 23])\n",
      "y: tensor([-16, -17, -18, -19, -20, -21, -22, -23])\n",
      "-----------------------------------------------\n",
      "torch.Size([8, 1, 1, 1]) torch.Size([8, 1, 1, 1])\n",
      "-----------------------------------------------\n",
      "x: tensor([24, 25, 26, 27, 28, 29, 30, 31])\n",
      "y: tensor([-24, -25, -26, -27, -28, -29, -30, -31])\n",
      "-----------------------------------------------\n",
      "torch.Size([8, 1, 1, 1]) torch.Size([8, 1, 1, 1])\n",
      "-----------------------------------------------\n",
      "x: tensor([32, 33, 34, 35, 36, 37, 38, 39])\n",
      "y: tensor([-32, -33, -34, -35, -36, -37, -38, -39])\n",
      "-----------------------------------------------\n",
      "torch.Size([4, 1, 1, 1]) torch.Size([4, 1, 1, 1])\n",
      "-----------------------------------------------\n",
      "x: tensor([40, 41, 42, 43])\n",
      "y: tensor([-40, -41, -42, -43])\n",
      "-----------------------------------------------\n",
      "23.256498336791992\n"
     ]
    }
   ],
   "source": [
    "start_time = time()\n",
    "for x, y in dl:\n",
    "    # Processing time of one batch\n",
    "    sleep(0.2)\n",
    "    print(x.shape, y.shape)\n",
    "    print('-----------------------------------------------')\n",
    "    print('x: {}'.format(x[:,0,0,0]))\n",
    "    print('y: {}'.format(y[:,0,0,0]))\n",
    "    print('-----------------------------------------------')\n",
    "\n",
    "end_time= time()\n",
    "print(end_time - start_time)"
   ]
  },
  {
   "cell_type": "markdown",
   "id": "preceding-version",
   "metadata": {},
   "source": [
    "### Iterable Dataset"
   ]
  },
  {
   "cell_type": "code",
   "execution_count": 7,
   "id": "nervous-latitude",
   "metadata": {},
   "outputs": [],
   "source": [
    "ds = MyIterableDataset()"
   ]
  },
  {
   "cell_type": "code",
   "execution_count": 8,
   "id": "developed-strap",
   "metadata": {},
   "outputs": [],
   "source": [
    "dl = DataLoader(ds, batch_size=8)"
   ]
  },
  {
   "cell_type": "code",
   "execution_count": 9,
   "id": "straight-scratch",
   "metadata": {
    "scrolled": true
   },
   "outputs": [
    {
     "name": "stdout",
     "output_type": "stream",
     "text": [
      "torch.Size([8, 1, 1, 1]) torch.Size([8, 1, 1, 1])\n",
      "-----------------------------------------------\n",
      "x: tensor([0, 1, 2, 3, 4, 5, 6, 7])\n",
      "y: tensor([ 0, -1, -2, -3, -4, -5, -6, -7])\n",
      "-----------------------------------------------\n",
      "torch.Size([8, 1, 1, 1]) torch.Size([8, 1, 1, 1])\n",
      "-----------------------------------------------\n",
      "x: tensor([ 8,  9, 10, 11, 12, 13, 14, 15])\n",
      "y: tensor([ -8,  -9, -10, -11, -12, -13, -14, -15])\n",
      "-----------------------------------------------\n",
      "torch.Size([8, 1, 1, 1]) torch.Size([8, 1, 1, 1])\n",
      "-----------------------------------------------\n",
      "x: tensor([16, 17, 18, 19, 20, 21, 22, 23])\n",
      "y: tensor([-16, -17, -18, -19, -20, -21, -22, -23])\n",
      "-----------------------------------------------\n",
      "torch.Size([8, 1, 1, 1]) torch.Size([8, 1, 1, 1])\n",
      "-----------------------------------------------\n",
      "x: tensor([24, 25, 26, 27, 28, 29, 30, 31])\n",
      "y: tensor([-24, -25, -26, -27, -28, -29, -30, -31])\n",
      "-----------------------------------------------\n",
      "torch.Size([8, 1, 1, 1]) torch.Size([8, 1, 1, 1])\n",
      "-----------------------------------------------\n",
      "x: tensor([32, 33, 34, 35, 36, 37, 38, 39])\n",
      "y: tensor([-32, -33, -34, -35, -36, -37, -38, -39])\n",
      "-----------------------------------------------\n",
      "torch.Size([4, 1, 1, 1]) torch.Size([4, 1, 1, 1])\n",
      "-----------------------------------------------\n",
      "x: tensor([40, 41, 42, 43])\n",
      "y: tensor([-40, -41, -42, -43])\n",
      "-----------------------------------------------\n",
      "23.255353927612305\n"
     ]
    }
   ],
   "source": [
    "start_time = time()\n",
    "for x, y in dl:\n",
    "    # Processing time of one batch\n",
    "    sleep(0.2)\n",
    "    print(x.shape, y.shape)\n",
    "    print('-----------------------------------------------')\n",
    "    print('x: {}'.format(x[:,0,0,0]))\n",
    "    print('y: {}'.format(y[:,0,0,0]))\n",
    "    print('-----------------------------------------------')\n",
    "\n",
    "end_time= time()\n",
    "print(end_time - start_time)"
   ]
  },
  {
   "cell_type": "markdown",
   "id": "geological-constitutional",
   "metadata": {},
   "source": [
    "## Parallel Loading\n",
    "We can speed-up dataloading by using `num_workers`. If we set `num_workers=1` dataloading is spawned in a new process i.e. the main-thread is idle, but no speed-up can be observed. With `num_workers > 1` data is loaded in parallel. More precicesly each `num_worker` `DataLoader`s are created and create batches i.e. each `DataLoader` creates a full batch and then waits until the batch is used.\n",
    "\n",
    "For more information consult the [documentation](https://pytorch.org/docs/stable/data.html#multi-process-data-loading)."
   ]
  },
  {
   "cell_type": "markdown",
   "id": "dietary-castle",
   "metadata": {},
   "source": [
    "### Map Dataset"
   ]
  },
  {
   "cell_type": "code",
   "execution_count": 10,
   "id": "ready-attraction",
   "metadata": {},
   "outputs": [],
   "source": [
    "ds = MyDataset()"
   ]
  },
  {
   "cell_type": "code",
   "execution_count": 11,
   "id": "mobile-binding",
   "metadata": {},
   "outputs": [],
   "source": [
    "dl = DataLoader(ds, batch_size=8, num_workers=1)"
   ]
  },
  {
   "cell_type": "code",
   "execution_count": 12,
   "id": "focal-morgan",
   "metadata": {
    "scrolled": true
   },
   "outputs": [
    {
     "name": "stdout",
     "output_type": "stream",
     "text": [
      "torch.Size([8, 1, 1, 1]) torch.Size([8, 1, 1, 1])\n",
      "-----------------------------------------------\n",
      "x: tensor([0, 1, 2, 3, 4, 5, 6, 7])\n",
      "y: tensor([ 0, -1, -2, -3, -4, -5, -6, -7])\n",
      "-----------------------------------------------\n",
      "torch.Size([8, 1, 1, 1]) torch.Size([8, 1, 1, 1])\n",
      "-----------------------------------------------\n",
      "x: tensor([ 8,  9, 10, 11, 12, 13, 14, 15])\n",
      "y: tensor([ -8,  -9, -10, -11, -12, -13, -14, -15])\n",
      "-----------------------------------------------\n",
      "torch.Size([8, 1, 1, 1]) torch.Size([8, 1, 1, 1])\n",
      "-----------------------------------------------\n",
      "x: tensor([16, 17, 18, 19, 20, 21, 22, 23])\n",
      "y: tensor([-16, -17, -18, -19, -20, -21, -22, -23])\n",
      "-----------------------------------------------\n",
      "torch.Size([8, 1, 1, 1]) torch.Size([8, 1, 1, 1])\n",
      "-----------------------------------------------\n",
      "x: tensor([24, 25, 26, 27, 28, 29, 30, 31])\n",
      "y: tensor([-24, -25, -26, -27, -28, -29, -30, -31])\n",
      "-----------------------------------------------\n",
      "torch.Size([8, 1, 1, 1]) torch.Size([8, 1, 1, 1])\n",
      "-----------------------------------------------\n",
      "x: tensor([32, 33, 34, 35, 36, 37, 38, 39])\n",
      "y: tensor([-32, -33, -34, -35, -36, -37, -38, -39])\n",
      "-----------------------------------------------\n",
      "torch.Size([4, 1, 1, 1]) torch.Size([4, 1, 1, 1])\n",
      "-----------------------------------------------\n",
      "x: tensor([40, 41, 42, 43])\n",
      "y: tensor([-40, -41, -42, -43])\n",
      "-----------------------------------------------\n",
      "22.3265643119812\n"
     ]
    }
   ],
   "source": [
    "start_time = time()\n",
    "for x, y in dl:\n",
    "    # Processing time of one batch\n",
    "    sleep(0.2)\n",
    "    print(x.shape, y.shape)\n",
    "    print('-----------------------------------------------')\n",
    "    print('x: {}'.format(x[:,0,0,0]))\n",
    "    print('y: {}'.format(y[:,0,0,0]))\n",
    "    print('-----------------------------------------------')\n",
    "    \n",
    "end_time= time()\n",
    "print(end_time - start_time)"
   ]
  },
  {
   "cell_type": "code",
   "execution_count": 13,
   "id": "invalid-insertion",
   "metadata": {},
   "outputs": [],
   "source": [
    "dl = DataLoader(ds, batch_size=8, num_workers=4)"
   ]
  },
  {
   "cell_type": "code",
   "execution_count": 14,
   "id": "pleased-limitation",
   "metadata": {
    "scrolled": true
   },
   "outputs": [
    {
     "name": "stdout",
     "output_type": "stream",
     "text": [
      "torch.Size([8, 1, 1, 1]) torch.Size([8, 1, 1, 1])\n",
      "-----------------------------------------------\n",
      "x: tensor([0, 1, 2, 3, 4, 5, 6, 7])\n",
      "y: tensor([ 0, -1, -2, -3, -4, -5, -6, -7])\n",
      "-----------------------------------------------\n",
      "torch.Size([8, 1, 1, 1]) torch.Size([8, 1, 1, 1])\n",
      "-----------------------------------------------\n",
      "x: tensor([ 8,  9, 10, 11, 12, 13, 14, 15])\n",
      "y: tensor([ -8,  -9, -10, -11, -12, -13, -14, -15])\n",
      "-----------------------------------------------\n",
      "torch.Size([8, 1, 1, 1]) torch.Size([8, 1, 1, 1])\n",
      "-----------------------------------------------\n",
      "x: tensor([16, 17, 18, 19, 20, 21, 22, 23])\n",
      "y: tensor([-16, -17, -18, -19, -20, -21, -22, -23])\n",
      "-----------------------------------------------\n",
      "torch.Size([8, 1, 1, 1]) torch.Size([8, 1, 1, 1])\n",
      "-----------------------------------------------\n",
      "x: tensor([24, 25, 26, 27, 28, 29, 30, 31])\n",
      "y: tensor([-24, -25, -26, -27, -28, -29, -30, -31])\n",
      "-----------------------------------------------\n",
      "torch.Size([8, 1, 1, 1]) torch.Size([8, 1, 1, 1])\n",
      "-----------------------------------------------\n",
      "x: tensor([32, 33, 34, 35, 36, 37, 38, 39])\n",
      "y: tensor([-32, -33, -34, -35, -36, -37, -38, -39])\n",
      "-----------------------------------------------\n",
      "torch.Size([4, 1, 1, 1]) torch.Size([4, 1, 1, 1])\n",
      "-----------------------------------------------\n",
      "x: tensor([40, 41, 42, 43])\n",
      "y: tensor([-40, -41, -42, -43])\n",
      "-----------------------------------------------\n",
      "8.472668170928955\n"
     ]
    }
   ],
   "source": [
    "start_time = time()\n",
    "for x, y in dl:\n",
    "    # Processing time of one batch\n",
    "    sleep(0.2)\n",
    "    print(x.shape, y.shape)\n",
    "    print('-----------------------------------------------')\n",
    "    print('x: {}'.format(x[:,0,0,0]))\n",
    "    print('y: {}'.format(y[:,0,0,0]))\n",
    "    print('-----------------------------------------------')\n",
    "    \n",
    "end_time= time()\n",
    "print(end_time - start_time)"
   ]
  },
  {
   "cell_type": "markdown",
   "id": "south-marina",
   "metadata": {},
   "source": [
    "### Iterable Dataset"
   ]
  },
  {
   "cell_type": "code",
   "execution_count": 15,
   "id": "impressive-renaissance",
   "metadata": {},
   "outputs": [],
   "source": [
    "ds = MyIterableDataset()"
   ]
  },
  {
   "cell_type": "code",
   "execution_count": 16,
   "id": "hundred-messenger",
   "metadata": {},
   "outputs": [],
   "source": [
    "dl = DataLoader(ds, batch_size=8, num_workers=1)"
   ]
  },
  {
   "cell_type": "code",
   "execution_count": 17,
   "id": "satellite-worcester",
   "metadata": {
    "scrolled": true
   },
   "outputs": [
    {
     "name": "stdout",
     "output_type": "stream",
     "text": [
      "torch.Size([8, 1, 1, 1]) torch.Size([8, 1, 1, 1])\n",
      "-----------------------------------------------\n",
      "x: tensor([0, 1, 2, 3, 4, 5, 6, 7])\n",
      "y: tensor([ 0, -1, -2, -3, -4, -5, -6, -7])\n",
      "-----------------------------------------------\n",
      "torch.Size([8, 1, 1, 1]) torch.Size([8, 1, 1, 1])\n",
      "-----------------------------------------------\n",
      "x: tensor([ 8,  9, 10, 11, 12, 13, 14, 15])\n",
      "y: tensor([ -8,  -9, -10, -11, -12, -13, -14, -15])\n",
      "-----------------------------------------------\n",
      "torch.Size([8, 1, 1, 1]) torch.Size([8, 1, 1, 1])\n",
      "-----------------------------------------------\n",
      "x: tensor([16, 17, 18, 19, 20, 21, 22, 23])\n",
      "y: tensor([-16, -17, -18, -19, -20, -21, -22, -23])\n",
      "-----------------------------------------------\n",
      "torch.Size([8, 1, 1, 1]) torch.Size([8, 1, 1, 1])\n",
      "-----------------------------------------------\n",
      "x: tensor([24, 25, 26, 27, 28, 29, 30, 31])\n",
      "y: tensor([-24, -25, -26, -27, -28, -29, -30, -31])\n",
      "-----------------------------------------------\n",
      "torch.Size([8, 1, 1, 1]) torch.Size([8, 1, 1, 1])\n",
      "-----------------------------------------------\n",
      "x: tensor([32, 33, 34, 35, 36, 37, 38, 39])\n",
      "y: tensor([-32, -33, -34, -35, -36, -37, -38, -39])\n",
      "-----------------------------------------------\n",
      "torch.Size([4, 1, 1, 1]) torch.Size([4, 1, 1, 1])\n",
      "-----------------------------------------------\n",
      "x: tensor([40, 41, 42, 43])\n",
      "y: tensor([-40, -41, -42, -43])\n",
      "-----------------------------------------------\n",
      "22.277029275894165\n"
     ]
    }
   ],
   "source": [
    "start_time = time()\n",
    "for x, y in dl:\n",
    "    # Processing time of one batch\n",
    "    sleep(0.2)\n",
    "    print(x.shape, y.shape)\n",
    "    print('-----------------------------------------------')\n",
    "    print('x: {}'.format(x[:,0,0,0]))\n",
    "    print('y: {}'.format(y[:,0,0,0]))\n",
    "    print('-----------------------------------------------')\n",
    "    \n",
    "end_time= time()\n",
    "print(end_time - start_time)"
   ]
  },
  {
   "cell_type": "code",
   "execution_count": 18,
   "id": "right-sunrise",
   "metadata": {},
   "outputs": [],
   "source": [
    "dl = DataLoader(ds, batch_size=8, num_workers=4)"
   ]
  },
  {
   "cell_type": "code",
   "execution_count": 19,
   "id": "pharmaceutical-prophet",
   "metadata": {
    "scrolled": true
   },
   "outputs": [
    {
     "name": "stdout",
     "output_type": "stream",
     "text": [
      "torch.Size([8, 1, 1, 1]) torch.Size([8, 1, 1, 1])\n",
      "-----------------------------------------------\n",
      "x: tensor([ 0,  4,  8, 12, 16, 20, 24, 28])\n",
      "y: tensor([  0,  -4,  -8, -12, -16, -20, -24, -28])\n",
      "-----------------------------------------------\n",
      "torch.Size([8, 1, 1, 1]) torch.Size([8, 1, 1, 1])\n",
      "-----------------------------------------------\n",
      "x: tensor([ 1,  5,  9, 13, 17, 21, 25, 29])\n",
      "y: tensor([ -1,  -5,  -9, -13, -17, -21, -25, -29])\n",
      "-----------------------------------------------\n",
      "torch.Size([8, 1, 1, 1]) torch.Size([8, 1, 1, 1])\n",
      "-----------------------------------------------\n",
      "x: tensor([ 2,  6, 10, 14, 18, 22, 26, 30])\n",
      "y: tensor([ -2,  -6, -10, -14, -18, -22, -26, -30])\n",
      "-----------------------------------------------\n",
      "torch.Size([8, 1, 1, 1]) torch.Size([8, 1, 1, 1])\n",
      "-----------------------------------------------\n",
      "x: tensor([ 3,  7, 11, 15, 19, 23, 27, 31])\n",
      "y: tensor([ -3,  -7, -11, -15, -19, -23, -27, -31])\n",
      "-----------------------------------------------\n",
      "torch.Size([3, 1, 1, 1]) torch.Size([3, 1, 1, 1])\n",
      "-----------------------------------------------\n",
      "x: tensor([32, 36, 40])\n",
      "y: tensor([-32, -36, -40])\n",
      "-----------------------------------------------\n",
      "torch.Size([3, 1, 1, 1]) torch.Size([3, 1, 1, 1])\n",
      "-----------------------------------------------\n",
      "x: tensor([33, 37, 41])\n",
      "y: tensor([-33, -37, -41])\n",
      "-----------------------------------------------\n",
      "torch.Size([3, 1, 1, 1]) torch.Size([3, 1, 1, 1])\n",
      "-----------------------------------------------\n",
      "x: tensor([34, 38, 42])\n",
      "y: tensor([-34, -38, -42])\n",
      "-----------------------------------------------\n",
      "torch.Size([3, 1, 1, 1]) torch.Size([3, 1, 1, 1])\n",
      "-----------------------------------------------\n",
      "x: tensor([35, 39, 43])\n",
      "y: tensor([-35, -39, -43])\n",
      "-----------------------------------------------\n",
      "6.404065370559692\n"
     ]
    }
   ],
   "source": [
    "start_time = time()\n",
    "for x, y in dl:\n",
    "    # Processing time of one batch\n",
    "    sleep(0.2)\n",
    "    print(x.shape, y.shape)\n",
    "    print('-----------------------------------------------')\n",
    "    print('x: {}'.format(x[:,0,0,0]))\n",
    "    print('y: {}'.format(y[:,0,0,0]))\n",
    "    print('-----------------------------------------------')\n",
    "    \n",
    "end_time= time()\n",
    "print(end_time - start_time)"
   ]
  },
  {
   "cell_type": "markdown",
   "id": "naughty-hierarchy",
   "metadata": {},
   "source": [
    "## Shuffle\n",
    "Usually it is a good idea to shuffle the data after each epoch. `DataLoader` takes care of this as well!"
   ]
  },
  {
   "cell_type": "markdown",
   "id": "considered-likelihood",
   "metadata": {},
   "source": [
    "### Map Dataset"
   ]
  },
  {
   "cell_type": "code",
   "execution_count": 20,
   "id": "assured-removal",
   "metadata": {},
   "outputs": [],
   "source": [
    "ds = MyDataset()"
   ]
  },
  {
   "cell_type": "code",
   "execution_count": 21,
   "id": "divided-thought",
   "metadata": {},
   "outputs": [],
   "source": [
    "dl = DataLoader(ds, batch_size=8, num_workers=4, shuffle=True)"
   ]
  },
  {
   "cell_type": "code",
   "execution_count": 22,
   "id": "correct-wedding",
   "metadata": {},
   "outputs": [
    {
     "name": "stdout",
     "output_type": "stream",
     "text": [
      "torch.Size([8, 1, 1, 1]) torch.Size([8, 1, 1, 1])\n",
      "-----------------------------------------------\n",
      "x: tensor([37, 43, 15, 12, 42, 41, 16, 17])\n",
      "y: tensor([-37, -43, -15, -12, -42, -41, -16, -17])\n",
      "-----------------------------------------------\n",
      "torch.Size([8, 1, 1, 1]) torch.Size([8, 1, 1, 1])\n",
      "-----------------------------------------------\n",
      "x: tensor([ 8, 25,  5,  2,  6, 36, 21,  3])\n",
      "y: tensor([ -8, -25,  -5,  -2,  -6, -36, -21,  -3])\n",
      "-----------------------------------------------\n",
      "torch.Size([8, 1, 1, 1]) torch.Size([8, 1, 1, 1])\n",
      "-----------------------------------------------\n",
      "x: tensor([31, 14, 33, 13, 26, 35, 18, 22])\n",
      "y: tensor([-31, -14, -33, -13, -26, -35, -18, -22])\n",
      "-----------------------------------------------\n",
      "torch.Size([8, 1, 1, 1]) torch.Size([8, 1, 1, 1])\n",
      "-----------------------------------------------\n",
      "x: tensor([24,  1, 40,  7, 38, 30, 39, 20])\n",
      "y: tensor([-24,  -1, -40,  -7, -38, -30, -39, -20])\n",
      "-----------------------------------------------\n",
      "torch.Size([8, 1, 1, 1]) torch.Size([8, 1, 1, 1])\n",
      "-----------------------------------------------\n",
      "x: tensor([11, 19, 32,  4, 10, 34,  0, 28])\n",
      "y: tensor([-11, -19, -32,  -4, -10, -34,   0, -28])\n",
      "-----------------------------------------------\n",
      "torch.Size([4, 1, 1, 1]) torch.Size([4, 1, 1, 1])\n",
      "-----------------------------------------------\n",
      "x: tensor([29, 23,  9, 27])\n",
      "y: tensor([-29, -23,  -9, -27])\n",
      "-----------------------------------------------\n",
      "8.472910404205322\n"
     ]
    }
   ],
   "source": [
    "start_time = time()\n",
    "for x, y in dl:\n",
    "    # Processing time of one batch\n",
    "    sleep(0.2)\n",
    "    print(x.shape, y.shape)\n",
    "    print('-----------------------------------------------')\n",
    "    print('x: {}'.format(x[:,0,0,0]))\n",
    "    print('y: {}'.format(y[:,0,0,0]))\n",
    "    print('-----------------------------------------------')\n",
    "    \n",
    "end_time= time()\n",
    "print(end_time - start_time)"
   ]
  },
  {
   "cell_type": "markdown",
   "id": "three-reply",
   "metadata": {},
   "source": [
    "### Iterable Dataset\n",
    "Shuffle does not work on an iterator. You would have to take care of it inside the iterator if it is possible."
   ]
  },
  {
   "cell_type": "markdown",
   "id": "mathematical-account",
   "metadata": {},
   "source": [
    "## CUDA\n",
    "If you want to use the GPU, just move each batch to GPU with `.cuda()`.\n",
    "\n",
    "__Note:__ Sometimes it is faster to use [pinned-memory](https://pytorch.org/docs/stable/data.html#memory-pinning)."
   ]
  },
  {
   "cell_type": "markdown",
   "id": "swedish-psychiatry",
   "metadata": {},
   "source": [
    "### Map Dataset"
   ]
  },
  {
   "cell_type": "code",
   "execution_count": 23,
   "id": "monthly-preservation",
   "metadata": {},
   "outputs": [],
   "source": [
    "ds = MyDataset()"
   ]
  },
  {
   "cell_type": "code",
   "execution_count": 24,
   "id": "caring-slope",
   "metadata": {},
   "outputs": [],
   "source": [
    "dl = DataLoader(ds, batch_size=8, num_workers=4, shuffle=True, pin_memory=True)"
   ]
  },
  {
   "cell_type": "code",
   "execution_count": 25,
   "id": "urban-membership",
   "metadata": {},
   "outputs": [
    {
     "name": "stdout",
     "output_type": "stream",
     "text": [
      "torch.Size([8, 1, 1, 1]) torch.Size([8, 1, 1, 1])\n",
      "-----------------------------------------------\n",
      "x: tensor([23,  4, 34,  1, 43, 14, 13, 31], device='cuda:0')\n",
      "y: tensor([-23,  -4, -34,  -1, -43, -14, -13, -31], device='cuda:0')\n",
      "-----------------------------------------------\n",
      "torch.Size([8, 1, 1, 1]) torch.Size([8, 1, 1, 1])\n",
      "-----------------------------------------------\n",
      "x: tensor([ 0,  8, 29, 41, 22, 40,  9,  2], device='cuda:0')\n",
      "y: tensor([  0,  -8, -29, -41, -22, -40,  -9,  -2], device='cuda:0')\n",
      "-----------------------------------------------\n",
      "torch.Size([8, 1, 1, 1]) torch.Size([8, 1, 1, 1])\n",
      "-----------------------------------------------\n",
      "x: tensor([19, 39, 12, 42,  5, 18, 16, 36], device='cuda:0')\n",
      "y: tensor([-19, -39, -12, -42,  -5, -18, -16, -36], device='cuda:0')\n",
      "-----------------------------------------------\n",
      "torch.Size([8, 1, 1, 1]) torch.Size([8, 1, 1, 1])\n",
      "-----------------------------------------------\n",
      "x: tensor([25, 17, 10, 26, 11, 20, 21, 15], device='cuda:0')\n",
      "y: tensor([-25, -17, -10, -26, -11, -20, -21, -15], device='cuda:0')\n",
      "-----------------------------------------------\n",
      "torch.Size([8, 1, 1, 1]) torch.Size([8, 1, 1, 1])\n",
      "-----------------------------------------------\n",
      "x: tensor([ 6, 27,  7, 35, 28, 38, 32, 33], device='cuda:0')\n",
      "y: tensor([ -6, -27,  -7, -35, -28, -38, -32, -33], device='cuda:0')\n",
      "-----------------------------------------------\n",
      "torch.Size([4, 1, 1, 1]) torch.Size([4, 1, 1, 1])\n",
      "-----------------------------------------------\n",
      "x: tensor([24, 30,  3, 37], device='cuda:0')\n",
      "y: tensor([-24, -30,  -3, -37], device='cuda:0')\n",
      "-----------------------------------------------\n",
      "8.528918981552124\n"
     ]
    }
   ],
   "source": [
    "start_time = time()\n",
    "for x, y in dl:\n",
    "    # Processing time of one batch\n",
    "    sleep(0.2)\n",
    "    x = x.cuda()\n",
    "    y = y.cuda()\n",
    "    print(x.shape, y.shape)\n",
    "    print('-----------------------------------------------')\n",
    "    print('x: {}'.format(x[:,0,0,0]))\n",
    "    print('y: {}'.format(y[:,0,0,0]))\n",
    "    print('-----------------------------------------------')\n",
    "    \n",
    "end_time= time()\n",
    "print(end_time - start_time)"
   ]
  },
  {
   "cell_type": "markdown",
   "id": "affiliated-shell",
   "metadata": {},
   "source": [
    "## Augmentation\n",
    "\n",
    "We can apply transformations to the data on the fly.\n",
    "For images also look into [torchvision.transforms](https://pytorch.org/vision/stable/transforms.html) which provides many augmentation methods.\n",
    "\n",
    "### Map Dataset"
   ]
  },
  {
   "cell_type": "code",
   "execution_count": 26,
   "id": "intended-bobby",
   "metadata": {},
   "outputs": [],
   "source": [
    "def gaussian_noise(data):\n",
    "    return data + torch.randn(*data.shape)\n",
    "\n",
    "class MyDataset(Dataset):\n",
    "    def __init__(self):\n",
    "        super(MyDataset).__init__()\n",
    "        self.data = np.arange(44)\n",
    "        self.data.shape = (self.data.shape[0], 1, 1, 1)\n",
    "        self.transform_x = transforms.Compose([\n",
    "            transforms.ToTensor(),\n",
    "            gaussian_noise\n",
    "        ])\n",
    "        self.transform_y = transforms.Compose([\n",
    "            transforms.ToTensor(),\n",
    "        ])\n",
    "        \n",
    "    def __getitem__(self, index):\n",
    "        # small data-prep. simulation delay\n",
    "        sleep(0.5)\n",
    "        return self.transform_x(self.data[index]), self.transform_y(-self.data[index])\n",
    "    \n",
    "    def __len__(self):\n",
    "        return len(self.data)"
   ]
  },
  {
   "cell_type": "code",
   "execution_count": 27,
   "id": "funky-farming",
   "metadata": {},
   "outputs": [],
   "source": [
    "ds = MyDataset()"
   ]
  },
  {
   "cell_type": "code",
   "execution_count": 28,
   "id": "contemporary-danger",
   "metadata": {},
   "outputs": [],
   "source": [
    "dl = DataLoader(ds, batch_size=8, num_workers=4, shuffle=True, pin_memory=True, )"
   ]
  },
  {
   "cell_type": "code",
   "execution_count": 29,
   "id": "accompanied-wales",
   "metadata": {},
   "outputs": [
    {
     "name": "stdout",
     "output_type": "stream",
     "text": [
      "torch.Size([8, 1, 1, 1]) torch.Size([8, 1, 1, 1])\n",
      "-----------------------------------------------\n",
      "x: tensor([38.9348,  3.1185, 12.3086, 26.7476, 34.9752, 33.4604, 21.5414, 24.7577],\n",
      "       device='cuda:0')\n",
      "y: tensor([-38,  -2, -13, -27, -35, -32, -21, -23], device='cuda:0')\n",
      "-----------------------------------------------\n",
      "torch.Size([8, 1, 1, 1]) torch.Size([8, 1, 1, 1])\n",
      "-----------------------------------------------\n",
      "x: tensor([20.1446, 36.4844, 43.4108, 29.8149, 28.4759,  6.6531, 39.4273, 11.8008],\n",
      "       device='cuda:0')\n",
      "y: tensor([-20, -34, -42, -31, -30,  -7, -41, -12], device='cuda:0')\n",
      "-----------------------------------------------\n",
      "torch.Size([8, 1, 1, 1]) torch.Size([8, 1, 1, 1])\n",
      "-----------------------------------------------\n",
      "x: tensor([ 4.8565, -0.7846, 19.9808,  0.2828, 22.1500, 26.4676, 20.8791, 29.4759],\n",
      "       device='cuda:0')\n",
      "y: tensor([ -4,  -1, -19,   0, -24, -25, -22, -28], device='cuda:0')\n",
      "-----------------------------------------------\n",
      "torch.Size([8, 1, 1, 1]) torch.Size([8, 1, 1, 1])\n",
      "-----------------------------------------------\n",
      "x: tensor([25.3453, 32.5263,  8.3453, 35.9606,  7.0630,  9.1082,  2.0607, 14.3774],\n",
      "       device='cuda:0')\n",
      "y: tensor([-26, -33,  -9, -37,  -6, -10,  -3, -16], device='cuda:0')\n",
      "-----------------------------------------------\n",
      "torch.Size([8, 1, 1, 1]) torch.Size([8, 1, 1, 1])\n",
      "-----------------------------------------------\n",
      "x: tensor([13.1656, 38.7052, 16.6370, 29.4094, 16.6665, 40.1301, 17.5927, 35.2242],\n",
      "       device='cuda:0')\n",
      "y: tensor([-14, -39, -17, -29, -15, -40, -18, -36], device='cuda:0')\n",
      "-----------------------------------------------\n",
      "torch.Size([4, 1, 1, 1]) torch.Size([4, 1, 1, 1])\n",
      "-----------------------------------------------\n",
      "x: tensor([42.1244,  5.5452, 10.3942,  8.4858], device='cuda:0')\n",
      "y: tensor([-43,  -5, -11,  -8], device='cuda:0')\n",
      "-----------------------------------------------\n",
      "8.606656074523926\n"
     ]
    }
   ],
   "source": [
    "start_time = time()\n",
    "for x, y in dl:\n",
    "    # Processing time of one batch\n",
    "    sleep(0.2)\n",
    "    x = x.cuda()\n",
    "    y = y.cuda()\n",
    "    print(x.shape, y.shape)\n",
    "    print('-----------------------------------------------')\n",
    "    print('x: {}'.format(x[:,0,0,0]))\n",
    "    print('y: {}'.format(y[:,0,0,0]))\n",
    "    print('-----------------------------------------------')\n",
    "    \n",
    "end_time= time()\n",
    "print(end_time - start_time)"
   ]
  },
  {
   "cell_type": "code",
   "execution_count": null,
   "id": "valued-utilization",
   "metadata": {},
   "outputs": [],
   "source": []
  }
 ],
 "metadata": {
  "kernelspec": {
   "display_name": "Python 3",
   "language": "python",
   "name": "python3"
  },
  "language_info": {
   "codemirror_mode": {
    "name": "ipython",
    "version": 3
   },
   "file_extension": ".py",
   "mimetype": "text/x-python",
   "name": "python",
   "nbconvert_exporter": "python",
   "pygments_lexer": "ipython3",
   "version": "3.7.10"
  }
 },
 "nbformat": 4,
 "nbformat_minor": 5
}
