{
 "cells": [
  {
   "cell_type": "code",
   "execution_count": 1,
   "id": "surgical-press",
   "metadata": {},
   "outputs": [],
   "source": [
    "import torch\n",
    "\n",
    "from torch import nn\n",
    "from torch.nn import functional as F\n",
    "\n",
    "import numpy as np\n",
    "\n",
    "import matplotlib.pyplot as plt\n",
    "\n",
    "from tqdm.notebook import tqdm\n",
    "\n",
    "import torchvision"
   ]
  },
  {
   "cell_type": "code",
   "execution_count": 2,
   "id": "australian-separation",
   "metadata": {},
   "outputs": [
    {
     "data": {
      "text/plain": [
       "True"
      ]
     },
     "execution_count": 2,
     "metadata": {},
     "output_type": "execute_result"
    }
   ],
   "source": [
    "# CUDA is not necessary for the examples in this notebook.\n",
    "torch.has_cuda"
   ]
  },
  {
   "cell_type": "code",
   "execution_count": 3,
   "id": "usual-colorado",
   "metadata": {},
   "outputs": [
    {
     "data": {
      "text/plain": [
       "device(type='cuda')"
      ]
     },
     "execution_count": 3,
     "metadata": {},
     "output_type": "execute_result"
    }
   ],
   "source": [
    "device = torch.device('cuda' if torch.cuda.is_available() else 'cpu')\n",
    "device"
   ]
  },
  {
   "cell_type": "code",
   "execution_count": 4,
   "id": "trying-rugby",
   "metadata": {},
   "outputs": [],
   "source": [
    "# Use your own path ;)\n",
    "mnist_train = torchvision.datasets.MNIST('Data/mnist', train=True, download=False,\n",
    "                                         transform=torchvision.transforms.Compose([\n",
    "                                            torchvision.transforms.ToTensor()\n",
    "                                         ]))"
   ]
  },
  {
   "cell_type": "code",
   "execution_count": 5,
   "id": "bored-first",
   "metadata": {},
   "outputs": [],
   "source": [
    "x_train = mnist_train.data.type(torch.float32)\n",
    "x_train /= 255.\n",
    "y_train = mnist_train.targets"
   ]
  },
  {
   "cell_type": "code",
   "execution_count": 6,
   "id": "rocky-profession",
   "metadata": {},
   "outputs": [
    {
     "name": "stdout",
     "output_type": "stream",
     "text": [
      "torch.Size([60000, 28, 28])\n",
      "torch.Size([60000])\n"
     ]
    }
   ],
   "source": [
    "print(x_train.shape)\n",
    "print(y_train.shape)"
   ]
  },
  {
   "cell_type": "code",
   "execution_count": 7,
   "id": "musical-timeline",
   "metadata": {},
   "outputs": [],
   "source": [
    "# X_train, X_test = X_train.to(device), X_test.to(device)\n",
    "# y_train, y_test = y_train.to(device), y_test.to(device)\n",
    "x_train = x_train.to(device)\n",
    "y_train = y_train.to(device)"
   ]
  },
  {
   "cell_type": "code",
   "execution_count": 8,
   "id": "thermal-deficit",
   "metadata": {},
   "outputs": [
    {
     "data": {
      "image/png": "[encoded data removed]",
      "text/plain": [
       "<Figure size 720x360 with 4 Axes>"
      ]
     },
     "metadata": {
      "needs_background": "light"
     },
     "output_type": "display_data"
    }
   ],
   "source": [
    "plt.figure(figsize=(10,5))\n",
    "plt.subplot(1,2,1)\n",
    "plt.imshow(x_train[0].cpu())\n",
    "plt.colorbar()\n",
    "plt.title(y_train[0].cpu().item());\n",
    "plt.subplot(1,2,2)\n",
    "plt.imshow(x_train[1000].cpu())\n",
    "plt.colorbar()\n",
    "plt.title(y_train[1000].cpu().item());"
   ]
  },
  {
   "cell_type": "markdown",
   "id": "infectious-square",
   "metadata": {},
   "source": [
    "# Tasks\n",
    "* Train a classifier with fully-connected layers only.\n",
    "* Train a classifier with convolutions only.\n",
    "* Train a classifier with convolutions and fully-connected layers.\n",
    "* Train a denoising network. Note, you have to create some noisy observations first ;)"
   ]
  },
  {
   "cell_type": "markdown",
   "id": "waiting-priority",
   "metadata": {},
   "source": [
    "# 1. Create model"
   ]
  },
  {
   "cell_type": "code",
   "execution_count": 9,
   "id": "understood-model",
   "metadata": {},
   "outputs": [],
   "source": [
    "class MyModel_FullyDense(nn.Module):\n",
    "    def __init__(self):\n",
    "        super(MyModel_FullyDense, self).__init__()\n",
    "        self.dense1 = nn.Linear(28*28,32)\n",
    "        self.relu = nn.ReLU()\n",
    "        self.dense2 = nn.Linear(32,10)\n",
    "        self.softmax = nn.Softmax(1)\n",
    "\n",
    "    def forward(self, x):\n",
    "        x = self.dense1(x)\n",
    "        x = self.relu(x)\n",
    "        x = self.dense2(x)\n",
    "        return self.softmax(x)"
   ]
  },
  {
   "cell_type": "code",
   "execution_count": 10,
   "id": "cardiovascular-mission",
   "metadata": {},
   "outputs": [],
   "source": [
    " class MyModel_FullyConv(nn.Module):\n",
    "    def __init__(self):\n",
    "        super(MyModel_FullyConv, self).__init__()\n",
    "        self.conv1 = nn.Conv2d(1, 10, kernel_size=3)       # 28-2 = 26\n",
    "        self.conv2 = nn.Conv2d(10, 10, kernel_size=3)      # -2   = 24\n",
    "        self.pool1 = nn.MaxPool2d(kernel_size=2,stride=2)  # /2   = 12\n",
    "        self.conv3 = nn.Conv2d(10, 10, kernel_size=3)      # -2   = 10\n",
    "        # - - - - - - - - - \n",
    "        self.pool2 = nn.MaxPool2d(kernel_size=2,stride=2)  # /2   = 5\n",
    "        self.conv4 = nn.Conv2d(10, 10, kernel_size=5)      # -4   = 10\n",
    "        self.flat  = nn.Flatten(start_dim=1)\n",
    "\n",
    "    def forward(self, x):\n",
    "        x = F.relu(self.conv1(x))\n",
    "        x = F.relu(self.conv2(x))\n",
    "        x = self.pool1(x)\n",
    "        x = F.relu(self.conv3(x))\n",
    "        x = self.pool2(x)        \n",
    "        x = F.relu(self.conv4(x))\n",
    "        x = self.flat(x)\n",
    "        return F.softmax(x,dim=1)"
   ]
  },
  {
   "cell_type": "code",
   "execution_count": 11,
   "id": "artistic-taxation",
   "metadata": {},
   "outputs": [],
   "source": [
    " class MyModel_Mixed(nn.Module):\n",
    "    def __init__(self):\n",
    "        super(MyModel_Mixed, self).__init__()\n",
    "        self.conv1 = nn.Conv2d(1, 10, kernel_size=5)\n",
    "        self.conv2 = nn.Conv2d(10, 20, kernel_size=5)\n",
    "        self.conv2_drop = nn.Dropout2d()\n",
    "        self.fc1 = nn.Linear(320, 50)\n",
    "        self.fc2 = nn.Linear(50, 10)\n",
    "\n",
    "    def forward(self, x):\n",
    "        x = F.relu(F.max_pool2d(self.conv1(x), 2))\n",
    "        x = F.relu(F.max_pool2d(self.conv2_drop(self.conv2(x)), 2))\n",
    "        x = x.view(-1, 320)\n",
    "        x = F.relu(self.fc1(x))\n",
    "        x = F.dropout(x, training=self.training)\n",
    "        x = self.fc2(x)\n",
    "        return F.softmax(x,dim=1)"
   ]
  },
  {
   "cell_type": "markdown",
   "id": "earlier-diversity",
   "metadata": {},
   "source": [
    "# 2. Test if model runs"
   ]
  },
  {
   "cell_type": "code",
   "execution_count": 12,
   "id": "attached-footage",
   "metadata": {},
   "outputs": [
    {
     "data": {
      "text/plain": [
       "tensor([[0.0964, 0.1141, 0.0979, 0.0864, 0.1156, 0.0933, 0.0906, 0.1083, 0.1032,\n",
       "         0.0943]], device='cuda:0', grad_fn=<SoftmaxBackward>)"
      ]
     },
     "execution_count": 12,
     "metadata": {},
     "output_type": "execute_result"
    }
   ],
   "source": [
    "model_fdense = MyModel_FullyDense()\n",
    "model_fdense.to(device)\n",
    "model_fdense.eval()\n",
    "model_fdense(x_train[0].flatten().unsqueeze(0))"
   ]
  },
  {
   "cell_type": "code",
   "execution_count": 13,
   "id": "relevant-activation",
   "metadata": {},
   "outputs": [
    {
     "data": {
      "text/plain": [
       "tensor([[0.0977, 0.1004, 0.1041, 0.0977, 0.0991, 0.0977, 0.0977, 0.1021, 0.1020,\n",
       "         0.1017]], device='cuda:0', grad_fn=<SoftmaxBackward>)"
      ]
     },
     "execution_count": 13,
     "metadata": {},
     "output_type": "execute_result"
    }
   ],
   "source": [
    "model_fconv = MyModel_FullyConv()\n",
    "model_fconv.to(device)\n",
    "model_fconv.eval()\n",
    "model_fconv(x_train[0:1].unsqueeze(1))"
   ]
  },
  {
   "cell_type": "code",
   "execution_count": 14,
   "id": "educational-storm",
   "metadata": {},
   "outputs": [
    {
     "data": {
      "text/plain": [
       "tensor([[0.0865, 0.1109, 0.0953, 0.0971, 0.1030, 0.1007, 0.0880, 0.1156, 0.1029,\n",
       "         0.1001]], device='cuda:0', grad_fn=<SoftmaxBackward>)"
      ]
     },
     "execution_count": 14,
     "metadata": {},
     "output_type": "execute_result"
    }
   ],
   "source": [
    "model_mixed = MyModel_Mixed()\n",
    "model_mixed.to(device)\n",
    "model_mixed.eval()\n",
    "model_mixed(x_train[0:1].unsqueeze(1))"
   ]
  },
  {
   "cell_type": "markdown",
   "id": "authentic-cleaner",
   "metadata": {},
   "source": [
    "# 3. Choose loss-function and optimizer"
   ]
  },
  {
   "cell_type": "code",
   "execution_count": 15,
   "id": "worst-south",
   "metadata": {},
   "outputs": [],
   "source": [
    "loss_function = F.nll_loss\n",
    "optimizer_fdense = torch.optim.Adam(model_fdense.parameters(), lr=0.0001)\n",
    "optimizer_fconv = torch.optim.Adam(model_fconv.parameters(), lr=0.0001)\n",
    "optimizer_mixed = torch.optim.Adam(model_mixed.parameters(), lr=0.0001)"
   ]
  },
  {
   "cell_type": "markdown",
   "id": "expanded-aquatic",
   "metadata": {},
   "source": [
    "# 4. Write train-loop + train\n",
    "\n",
    "__Note:__ If you want to train on GPU just call `model.cuda()` to move the model to GPU. Don't forget to move the training data to GPU as well. You can call `x.cuda()` to move a tensor to GPU."
   ]
  },
  {
   "cell_type": "code",
   "execution_count": 16,
   "id": "numeric-variable",
   "metadata": {},
   "outputs": [],
   "source": [
    "def train(model, x, y, loss_function, optimizer, num_epochs):\n",
    "    # Make sure that the model is in train-mode\n",
    "    model.train()\n",
    "    first = True\n",
    "    \n",
    "    running_loss = 0.0\n",
    "    for e in tqdm(range(num_epochs)):\n",
    "        for x_, y_ in zip(x, y):\n",
    "            x_ = x_.unsqueeze(0)\n",
    "            y_ = y_.unsqueeze(0)\n",
    "            if first:\n",
    "                print(x_.shape)\n",
    "                print(y_.shape)\n",
    "#                 first = False\n",
    "\n",
    "            # zero the parameter gradients\n",
    "            optimizer.zero_grad()\n",
    "\n",
    "            # forward + backward + optimize\n",
    "            y_hat = model(x_)\n",
    "            if first:\n",
    "#                 print(y_hat)\n",
    "                print(y_hat.shape)\n",
    "#                 first = False\n",
    "\n",
    "            loss = loss_function(y_hat, y_)\n",
    "            if first:\n",
    "                print(loss)\n",
    "                first = False\n",
    "\n",
    "            loss.backward()\n",
    "            optimizer.step()\n",
    "            \n",
    "            running_loss += loss.item() # .item() returns the scalar value of the tensor.\n",
    "            \n",
    "        running_loss /= len(x)\n",
    "        print('Epoch: %3d; Train-Loss: %.7f'%(e+1, running_loss))\n",
    "        running_loss = 0.0"
   ]
  },
  {
   "cell_type": "code",
   "execution_count": 17,
   "id": "helpful-astronomy",
   "metadata": {},
   "outputs": [
    {
     "data": {
      "application/vnd.jupyter.widget-view+json": {
       "model_id": "2acc17e7927c4832a48320053db99699",
       "version_major": 2,
       "version_minor": 0
      },
      "text/plain": [
       "  0%|          | 0/10 [00:00<?, ?it/s]"
      ]
     },
     "metadata": {},
     "output_type": "display_data"
    },
    {
     "name": "stdout",
     "output_type": "stream",
     "text": [
      "torch.Size([1, 784])\n",
      "torch.Size([1])\n",
      "torch.Size([1, 10])\n",
      "tensor(-0.0933, device='cuda:0', grad_fn=<NllLossBackward>)\n",
      "Epoch:   1; Train-Loss: -0.1552867\n",
      "Epoch:   2; Train-Loss: -0.3228714\n",
      "Epoch:   3; Train-Loss: -0.4691978\n",
      "Epoch:   4; Train-Loss: -0.5696082\n",
      "Epoch:   5; Train-Loss: -0.6229028\n",
      "Epoch:   6; Train-Loss: -0.6612365\n",
      "Epoch:   7; Train-Loss: -0.7075077\n",
      "Epoch:   8; Train-Loss: -0.7362604\n",
      "Epoch:   9; Train-Loss: -0.7591706\n",
      "Epoch:  10; Train-Loss: -0.7816309\n"
     ]
    }
   ],
   "source": [
    "model_fdense.train()\n",
    "train(model_fdense, x_train[:1000].flatten(start_dim=1), y_train, loss_function, optimizer_fdense, 10)"
   ]
  },
  {
   "cell_type": "code",
   "execution_count": 18,
   "id": "forward-probability",
   "metadata": {},
   "outputs": [
    {
     "data": {
      "application/vnd.jupyter.widget-view+json": {
       "model_id": "3b477bcfe7b34d0395ac9da6de8ecc86",
       "version_major": 2,
       "version_minor": 0
      },
      "text/plain": [
       "  0%|          | 0/10 [00:00<?, ?it/s]"
      ]
     },
     "metadata": {},
     "output_type": "display_data"
    },
    {
     "name": "stdout",
     "output_type": "stream",
     "text": [
      "torch.Size([1, 1, 28, 28])\n",
      "torch.Size([1])\n",
      "torch.Size([1, 10])\n",
      "tensor(-0.0977, device='cuda:0', grad_fn=<NllLossBackward>)\n",
      "Epoch:   1; Train-Loss: -0.1022296\n",
      "Epoch:   2; Train-Loss: -0.3893824\n",
      "Epoch:   3; Train-Loss: -0.5632840\n",
      "Epoch:   4; Train-Loss: -0.5862278\n",
      "Epoch:   5; Train-Loss: -0.6019934\n",
      "Epoch:   6; Train-Loss: -0.6119937\n",
      "Epoch:   7; Train-Loss: -0.6242278\n",
      "Epoch:   8; Train-Loss: -0.6330877\n",
      "Epoch:   9; Train-Loss: -0.6385062\n",
      "Epoch:  10; Train-Loss: -0.6425462\n"
     ]
    }
   ],
   "source": [
    "model_fconv.train()\n",
    "train(model_fconv, x_train[:1000].unsqueeze(1), y_train, loss_function, optimizer_fconv, 10)"
   ]
  },
  {
   "cell_type": "code",
   "execution_count": 19,
   "id": "accessory-welcome",
   "metadata": {},
   "outputs": [
    {
     "data": {
      "application/vnd.jupyter.widget-view+json": {
       "model_id": "b76ffd65ef7641edab385910dd94559c",
       "version_major": 2,
       "version_minor": 0
      },
      "text/plain": [
       "  0%|          | 0/10 [00:00<?, ?it/s]"
      ]
     },
     "metadata": {},
     "output_type": "display_data"
    },
    {
     "name": "stdout",
     "output_type": "stream",
     "text": [
      "torch.Size([1, 1, 28, 28])\n",
      "torch.Size([1])\n",
      "torch.Size([1, 10])\n",
      "tensor(-0.1049, device='cuda:0', grad_fn=<NllLossBackward>)\n",
      "Epoch:   1; Train-Loss: -0.1026016\n",
      "Epoch:   2; Train-Loss: -0.1676900\n",
      "Epoch:   3; Train-Loss: -0.3310794\n",
      "Epoch:   4; Train-Loss: -0.4175726\n",
      "Epoch:   5; Train-Loss: -0.4968674\n",
      "Epoch:   6; Train-Loss: -0.5145271\n",
      "Epoch:   7; Train-Loss: -0.5740061\n",
      "Epoch:   8; Train-Loss: -0.5970869\n",
      "Epoch:   9; Train-Loss: -0.6290855\n",
      "Epoch:  10; Train-Loss: -0.6387496\n"
     ]
    }
   ],
   "source": [
    "model_mixed.train()\n",
    "train(model_mixed, x_train[:1000].unsqueeze(1), y_train, loss_function, optimizer_mixed, 10)"
   ]
  },
  {
   "cell_type": "markdown",
   "id": "meaningful-multimedia",
   "metadata": {},
   "source": [
    "# 5. Evaluate"
   ]
  },
  {
   "cell_type": "code",
   "execution_count": 20,
   "id": "preliminary-joseph",
   "metadata": {},
   "outputs": [],
   "source": [
    "model_fdense.eval()\n",
    "preds_fdense = model_fdense(x_train.flatten(start_dim=1))"
   ]
  },
  {
   "cell_type": "code",
   "execution_count": 21,
   "id": "graphic-rainbow",
   "metadata": {},
   "outputs": [],
   "source": [
    "model_fconv.eval()\n",
    "preds_fconv = model_fconv(x_train.unsqueeze(1))"
   ]
  },
  {
   "cell_type": "code",
   "execution_count": 22,
   "id": "bigger-buffer",
   "metadata": {},
   "outputs": [],
   "source": [
    "model_mixed.eval()\n",
    "preds_mixed = model_mixed(x_train.unsqueeze(1))"
   ]
  },
  {
   "cell_type": "code",
   "execution_count": 23,
   "id": "interior-failure",
   "metadata": {},
   "outputs": [
    {
     "data": {
      "image/png": "[encoded data removed]",
      "text/plain": [
       "<Figure size 1728x360 with 4 Axes>"
      ]
     },
     "metadata": {
      "needs_background": "light"
     },
     "output_type": "display_data"
    },
    {
     "data": {
      "image/png": "[encoded data removed]",
      "text/plain": [
       "<Figure size 1728x360 with 4 Axes>"
      ]
     },
     "metadata": {
      "needs_background": "light"
     },
     "output_type": "display_data"
    },
    {
     "data": {
      "image/png": "[encoded data removed]",
      "text/plain": [
       "<Figure size 1728x360 with 4 Axes>"
      ]
     },
     "metadata": {
      "needs_background": "light"
     },
     "output_type": "display_data"
    },
    {
     "data": {
      "image/png": "[encoded data removed]",
      "text/plain": [
       "<Figure size 1728x360 with 4 Axes>"
      ]
     },
     "metadata": {
      "needs_background": "light"
     },
     "output_type": "display_data"
    },
    {
     "data": {
      "image/png": "[encoded data removed]",
      "text/plain": [
       "<Figure size 1728x360 with 4 Axes>"
      ]
     },
     "metadata": {
      "needs_background": "light"
     },
     "output_type": "display_data"
    }
   ],
   "source": [
    "def plotarow(i,results):\n",
    "    plt.figure(figsize=(8*len(results),5))\n",
    "    plt.subplot(1,1+len(results),1)\n",
    "    plt.imshow(x_train[i].cpu())\n",
    "    for j in range(len(results)):\n",
    "        plt.subplot(1,1+len(results),2+j)\n",
    "        plt.bar([0,1,2,3,4,5,6,7,8,9],results[j].cpu().detach()[i])\n",
    "\n",
    "for i in range(5):\n",
    "    plotarow(i,[preds_fdense,preds_fconv,preds_mixed])"
   ]
  },
  {
   "cell_type": "markdown",
   "id": "wrong-balance",
   "metadata": {},
   "source": [
    "### Create Noisy Data"
   ]
  },
  {
   "cell_type": "code",
   "execution_count": 24,
   "id": "suburban-installation",
   "metadata": {},
   "outputs": [],
   "source": [
    "sig_train = x_train[:50000]\n",
    "sig_test = x_train[50000:]"
   ]
  },
  {
   "cell_type": "code",
   "execution_count": 25,
   "id": "enormous-meter",
   "metadata": {},
   "outputs": [
    {
     "data": {
      "text/plain": [
       "tensor([[[0., 0., 0.,  ..., 0., 0., 0.],\n",
       "         [0., 0., 0.,  ..., 0., 0., 0.],\n",
       "         [0., 0., 0.,  ..., 0., 0., 0.],\n",
       "         ...,\n",
       "         [0., 0., 0.,  ..., 0., 0., 0.],\n",
       "         [0., 0., 0.,  ..., 0., 0., 0.],\n",
       "         [0., 0., 0.,  ..., 0., 0., 0.]],\n",
       "\n",
       "        [[0., 0., 0.,  ..., 0., 0., 0.],\n",
       "         [0., 0., 0.,  ..., 0., 0., 0.],\n",
       "         [0., 0., 0.,  ..., 0., 0., 0.],\n",
       "         ...,\n",
       "         [0., 0., 0.,  ..., 0., 0., 0.],\n",
       "         [0., 0., 0.,  ..., 0., 0., 0.],\n",
       "         [0., 0., 0.,  ..., 0., 0., 0.]],\n",
       "\n",
       "        [[0., 0., 0.,  ..., 0., 0., 0.],\n",
       "         [0., 0., 0.,  ..., 0., 0., 0.],\n",
       "         [0., 0., 0.,  ..., 0., 0., 0.],\n",
       "         ...,\n",
       "         [0., 0., 0.,  ..., 0., 0., 0.],\n",
       "         [0., 0., 0.,  ..., 0., 0., 0.],\n",
       "         [0., 0., 0.,  ..., 0., 0., 0.]],\n",
       "\n",
       "        ...,\n",
       "\n",
       "        [[0., 0., 0.,  ..., 0., 0., 0.],\n",
       "         [0., 0., 0.,  ..., 0., 0., 0.],\n",
       "         [0., 0., 0.,  ..., 0., 0., 0.],\n",
       "         ...,\n",
       "         [0., 0., 0.,  ..., 0., 0., 0.],\n",
       "         [0., 0., 0.,  ..., 0., 0., 0.],\n",
       "         [0., 0., 0.,  ..., 0., 0., 0.]],\n",
       "\n",
       "        [[0., 0., 0.,  ..., 0., 0., 0.],\n",
       "         [0., 0., 0.,  ..., 0., 0., 0.],\n",
       "         [0., 0., 0.,  ..., 0., 0., 0.],\n",
       "         ...,\n",
       "         [0., 0., 0.,  ..., 0., 0., 0.],\n",
       "         [0., 0., 0.,  ..., 0., 0., 0.],\n",
       "         [0., 0., 0.,  ..., 0., 0., 0.]],\n",
       "\n",
       "        [[0., 0., 0.,  ..., 0., 0., 0.],\n",
       "         [0., 0., 0.,  ..., 0., 0., 0.],\n",
       "         [0., 0., 0.,  ..., 0., 0., 0.],\n",
       "         ...,\n",
       "         [0., 0., 0.,  ..., 0., 0., 0.],\n",
       "         [0., 0., 0.,  ..., 0., 0., 0.],\n",
       "         [0., 0., 0.,  ..., 0., 0., 0.]]], device='cuda:0')"
      ]
     },
     "execution_count": 25,
     "metadata": {},
     "output_type": "execute_result"
    }
   ],
   "source": [
    "sig_train"
   ]
  },
  {
   "cell_type": "code",
   "execution_count": 26,
   "id": "blond-atlanta",
   "metadata": {},
   "outputs": [],
   "source": [
    "def noise(imgs,sigma=.33):\n",
    "    n = torch.from_numpy(np.array( np.random.normal(0, sigma, size=imgs.shape), dtype=np.float32))\n",
    "    return imgs+n\n",
    "\n",
    "    \n",
    "noisy_train = noise(sig_train.cpu())\n",
    "noisy_test = noise(sig_test.cpu())"
   ]
  },
  {
   "cell_type": "code",
   "execution_count": 27,
   "id": "rubber-nigeria",
   "metadata": {},
   "outputs": [],
   "source": [
    "noisy_train = noisy_train.to(device)\n",
    "noisy_test = noisy_test.to(device)"
   ]
  },
  {
   "cell_type": "code",
   "execution_count": 28,
   "id": "metallic-mayor",
   "metadata": {},
   "outputs": [
    {
     "data": {
      "text/plain": [
       "<matplotlib.colorbar.Colorbar at 0x7f595ed69c90>"
      ]
     },
     "execution_count": 28,
     "metadata": {},
     "output_type": "execute_result"
    },
    {
     "data": {
      "image/png": "[encoded data removed]",
      "text/plain": [
       "<Figure size 720x360 with 4 Axes>"
      ]
     },
     "metadata": {
      "needs_background": "light"
     },
     "output_type": "display_data"
    }
   ],
   "source": [
    "plt.figure(figsize=(10,5))\n",
    "plt.subplot(1,2,1)\n",
    "plt.imshow(sig_test[0].cpu())\n",
    "plt.colorbar()\n",
    "plt.subplot(1,2,2)\n",
    "plt.imshow(noisy_test[0].cpu())\n",
    "plt.colorbar()"
   ]
  },
  {
   "cell_type": "markdown",
   "id": "entitled-convertible",
   "metadata": {},
   "source": [
    "### Create Network"
   ]
  },
  {
   "cell_type": "code",
   "execution_count": 29,
   "id": "proud-market",
   "metadata": {},
   "outputs": [],
   "source": [
    "class MyModel_Denoise(nn.Module):\n",
    "    def __init__(self):\n",
    "        super(MyModel_Denoise, self).__init__()\n",
    "        self.conv1 = nn.Conv2d(1, 10,  kernel_size=3, padding=(1,1))#, padding_mode='reflect')\n",
    "        self.conv2 = nn.Conv2d(10, 20, kernel_size=3, padding=(1,1))#, padding_mode='reflect')\n",
    "        self.conv3 = nn.Conv2d(20, 1,  kernel_size=3, padding=(1,1))#, padding_mode='reflect')\n",
    "\n",
    "    def forward(self, x):\n",
    "        x = F.relu(self.conv1(x))\n",
    "        x = F.relu(self.conv2(x))\n",
    "        x = F.relu(self.conv3(x))\n",
    "        return x"
   ]
  },
  {
   "cell_type": "markdown",
   "id": "vocational-ireland",
   "metadata": {},
   "source": [
    "### Train"
   ]
  },
  {
   "cell_type": "code",
   "execution_count": 30,
   "id": "institutional-comparison",
   "metadata": {},
   "outputs": [],
   "source": [
    "model_denoise = MyModel_Denoise()\n",
    "model_denoise.to(device)\n",
    "loss_denoise = F.mse_loss\n",
    "optimizer_denoise = torch.optim.Adam(model_denoise.parameters(), lr=0.0001)\n",
    "# optimizer_denoise = torch.optim.SGD(model_denoise.parameters(), lr=0.0001)"
   ]
  },
  {
   "cell_type": "code",
   "execution_count": 31,
   "id": "southeast-taste",
   "metadata": {},
   "outputs": [
    {
     "data": {
      "text/plain": [
       "tensor([[[[7.1940e-03, 0.0000e+00, 4.5017e-02, 3.7103e-02, 7.7531e-03,\n",
       "           1.8543e-02, 1.9697e-02, 4.7818e-03, 7.3547e-03, 5.0449e-02,\n",
       "           1.5364e-03, 2.7853e-02, 5.9562e-02, 0.0000e+00, 6.2248e-02,\n",
       "           0.0000e+00, 1.6335e-02, 2.5082e-03, 4.1191e-02, 7.3664e-03,\n",
       "           6.0529e-02, 2.7156e-03, 4.6114e-02, 0.0000e+00, 1.3328e-02,\n",
       "           9.7676e-03, 3.7381e-02, 6.7187e-02],\n",
       "          [2.6943e-02, 0.0000e+00, 2.1898e-02, 6.8489e-03, 0.0000e+00,\n",
       "           2.8142e-02, 0.0000e+00, 3.2347e-02, 1.4677e-02, 0.0000e+00,\n",
       "           2.3630e-02, 1.7258e-02, 0.0000e+00, 1.1680e-02, 0.0000e+00,\n",
       "           2.2041e-02, 0.0000e+00, 9.0208e-03, 0.0000e+00, 0.0000e+00,\n",
       "           1.2008e-02, 0.0000e+00, 1.9057e-02, 3.0776e-02, 0.0000e+00,\n",
       "           5.6418e-03, 0.0000e+00, 2.7980e-02],\n",
       "          [0.0000e+00, 0.0000e+00, 5.3661e-03, 0.0000e+00, 0.0000e+00,\n",
       "           2.4932e-03, 0.0000e+00, 2.5245e-02, 2.2652e-02, 0.0000e+00,\n",
       "           0.0000e+00, 7.8004e-02, 0.0000e+00, 0.0000e+00, 1.7478e-02,\n",
       "           2.9046e-04, 0.0000e+00, 0.0000e+00, 0.0000e+00, 3.9845e-02,\n",
       "           0.0000e+00, 4.3965e-02, 0.0000e+00, 0.0000e+00, 4.5576e-03,\n",
       "           0.0000e+00, 2.0196e-02, 3.5064e-02],\n",
       "          [6.2807e-03, 0.0000e+00, 0.0000e+00, 0.0000e+00, 3.6293e-02,\n",
       "           0.0000e+00, 2.8305e-03, 6.0604e-03, 0.0000e+00, 3.0591e-02,\n",
       "           0.0000e+00, 2.4715e-02, 5.5564e-02, 0.0000e+00, 1.4726e-02,\n",
       "           0.0000e+00, 0.0000e+00, 0.0000e+00, 2.4775e-02, 0.0000e+00,\n",
       "           8.7263e-03, 0.0000e+00, 4.2397e-03, 4.2056e-02, 0.0000e+00,\n",
       "           0.0000e+00, 0.0000e+00, 1.0839e-03],\n",
       "          [0.0000e+00, 0.0000e+00, 2.4179e-02, 0.0000e+00, 5.8877e-03,\n",
       "           0.0000e+00, 1.5391e-02, 0.0000e+00, 5.6573e-02, 6.6027e-03,\n",
       "           1.9143e-02, 1.2405e-02, 0.0000e+00, 0.0000e+00, 0.0000e+00,\n",
       "           3.7931e-02, 1.3263e-03, 0.0000e+00, 3.5109e-02, 2.0098e-02,\n",
       "           0.0000e+00, 0.0000e+00, 0.0000e+00, 1.5779e-03, 0.0000e+00,\n",
       "           0.0000e+00, 2.1641e-02, 1.3152e-02],\n",
       "          [9.4415e-03, 0.0000e+00, 0.0000e+00, 0.0000e+00, 0.0000e+00,\n",
       "           0.0000e+00, 6.4465e-03, 0.0000e+00, 0.0000e+00, 2.6755e-02,\n",
       "           0.0000e+00, 1.1433e-02, 1.1118e-02, 0.0000e+00, 8.2250e-03,\n",
       "           0.0000e+00, 1.0837e-02, 1.2712e-02, 0.0000e+00, 0.0000e+00,\n",
       "           1.3869e-02, 9.1986e-03, 0.0000e+00, 0.0000e+00, 0.0000e+00,\n",
       "           0.0000e+00, 1.5118e-02, 2.2235e-02],\n",
       "          [8.4204e-03, 0.0000e+00, 4.2872e-03, 1.0732e-02, 2.4966e-02,\n",
       "           2.0335e-02, 0.0000e+00, 6.5418e-04, 1.6534e-02, 0.0000e+00,\n",
       "           0.0000e+00, 0.0000e+00, 0.0000e+00, 0.0000e+00, 0.0000e+00,\n",
       "           0.0000e+00, 0.0000e+00, 1.1230e-02, 9.9387e-03, 0.0000e+00,\n",
       "           0.0000e+00, 3.8333e-02, 0.0000e+00, 1.7448e-03, 3.8916e-03,\n",
       "           0.0000e+00, 0.0000e+00, 1.7435e-02],\n",
       "          [0.0000e+00, 0.0000e+00, 0.0000e+00, 0.0000e+00, 0.0000e+00,\n",
       "           0.0000e+00, 0.0000e+00, 0.0000e+00, 0.0000e+00, 0.0000e+00,\n",
       "           0.0000e+00, 0.0000e+00, 0.0000e+00, 0.0000e+00, 2.7267e-02,\n",
       "           4.4465e-03, 0.0000e+00, 0.0000e+00, 1.5849e-03, 1.1503e-02,\n",
       "           0.0000e+00, 0.0000e+00, 0.0000e+00, 0.0000e+00, 1.9580e-02,\n",
       "           0.0000e+00, 1.4382e-02, 1.9779e-02],\n",
       "          [0.0000e+00, 0.0000e+00, 0.0000e+00, 2.2565e-03, 0.0000e+00,\n",
       "           2.1427e-02, 1.4622e-02, 0.0000e+00, 0.0000e+00, 3.6571e-02,\n",
       "           0.0000e+00, 0.0000e+00, 0.0000e+00, 0.0000e+00, 0.0000e+00,\n",
       "           4.7529e-03, 0.0000e+00, 0.0000e+00, 0.0000e+00, 8.9751e-03,\n",
       "           0.0000e+00, 0.0000e+00, 0.0000e+00, 9.0134e-03, 0.0000e+00,\n",
       "           0.0000e+00, 9.3733e-03, 2.3099e-02],\n",
       "          [4.0805e-03, 0.0000e+00, 0.0000e+00, 0.0000e+00, 0.0000e+00,\n",
       "           3.1127e-02, 0.0000e+00, 1.8818e-02, 3.6862e-02, 0.0000e+00,\n",
       "           2.6520e-02, 0.0000e+00, 0.0000e+00, 0.0000e+00, 1.7499e-02,\n",
       "           2.8697e-02, 4.2463e-03, 0.0000e+00, 0.0000e+00, 1.8240e-02,\n",
       "           0.0000e+00, 2.7978e-02, 0.0000e+00, 0.0000e+00, 0.0000e+00,\n",
       "           0.0000e+00, 0.0000e+00, 1.9433e-02],\n",
       "          [0.0000e+00, 0.0000e+00, 4.6014e-02, 0.0000e+00, 0.0000e+00,\n",
       "           0.0000e+00, 0.0000e+00, 0.0000e+00, 0.0000e+00, 1.0085e-02,\n",
       "           0.0000e+00, 2.8056e-02, 7.6522e-04, 0.0000e+00, 0.0000e+00,\n",
       "           0.0000e+00, 0.0000e+00, 0.0000e+00, 3.8688e-03, 0.0000e+00,\n",
       "           0.0000e+00, 2.0906e-02, 0.0000e+00, 0.0000e+00, 3.8054e-03,\n",
       "           9.5907e-03, 0.0000e+00, 2.2621e-02],\n",
       "          [4.4585e-03, 0.0000e+00, 0.0000e+00, 0.0000e+00, 0.0000e+00,\n",
       "           0.0000e+00, 0.0000e+00, 4.5030e-02, 0.0000e+00, 0.0000e+00,\n",
       "           5.4625e-03, 2.0061e-02, 7.6285e-02, 3.1124e-02, 0.0000e+00,\n",
       "           1.0963e-02, 0.0000e+00, 0.0000e+00, 0.0000e+00, 0.0000e+00,\n",
       "           0.0000e+00, 0.0000e+00, 0.0000e+00, 0.0000e+00, 2.6345e-02,\n",
       "           0.0000e+00, 0.0000e+00, 1.3279e-02],\n",
       "          [0.0000e+00, 0.0000e+00, 5.5756e-03, 0.0000e+00, 0.0000e+00,\n",
       "           2.6237e-02, 0.0000e+00, 0.0000e+00, 3.9799e-02, 1.5712e-02,\n",
       "           4.5039e-02, 5.1498e-02, 0.0000e+00, 0.0000e+00, 0.0000e+00,\n",
       "           0.0000e+00, 0.0000e+00, 0.0000e+00, 0.0000e+00, 6.4730e-03,\n",
       "           0.0000e+00, 3.5844e-03, 2.0721e-02, 0.0000e+00, 4.6186e-03,\n",
       "           0.0000e+00, 5.7045e-03, 7.2124e-03],\n",
       "          [0.0000e+00, 0.0000e+00, 7.1575e-03, 0.0000e+00, 2.6150e-03,\n",
       "           0.0000e+00, 0.0000e+00, 8.4955e-03, 0.0000e+00, 5.2681e-02,\n",
       "           1.0248e-02, 0.0000e+00, 1.2836e-02, 2.5144e-02, 0.0000e+00,\n",
       "           0.0000e+00, 0.0000e+00, 0.0000e+00, 1.4534e-02, 0.0000e+00,\n",
       "           0.0000e+00, 0.0000e+00, 0.0000e+00, 0.0000e+00, 1.9179e-03,\n",
       "           1.7919e-02, 6.5750e-03, 5.4453e-03],\n",
       "          [1.6052e-02, 0.0000e+00, 0.0000e+00, 0.0000e+00, 0.0000e+00,\n",
       "           3.9481e-02, 0.0000e+00, 0.0000e+00, 1.5192e-02, 0.0000e+00,\n",
       "           8.2738e-03, 0.0000e+00, 0.0000e+00, 0.0000e+00, 0.0000e+00,\n",
       "           0.0000e+00, 0.0000e+00, 1.1434e-02, 5.8105e-02, 0.0000e+00,\n",
       "           0.0000e+00, 1.6879e-02, 0.0000e+00, 6.0787e-03, 0.0000e+00,\n",
       "           1.2389e-02, 2.3801e-04, 0.0000e+00],\n",
       "          [0.0000e+00, 0.0000e+00, 0.0000e+00, 0.0000e+00, 5.7773e-03,\n",
       "           1.2881e-02, 4.7733e-04, 2.0002e-03, 0.0000e+00, 1.4920e-02,\n",
       "           0.0000e+00, 0.0000e+00, 0.0000e+00, 6.6331e-04, 0.0000e+00,\n",
       "           3.5048e-02, 3.5900e-03, 0.0000e+00, 0.0000e+00, 0.0000e+00,\n",
       "           3.4717e-02, 0.0000e+00, 1.5941e-02, 7.2271e-07, 0.0000e+00,\n",
       "           0.0000e+00, 4.0284e-02, 6.2228e-04],\n",
       "          [0.0000e+00, 0.0000e+00, 0.0000e+00, 0.0000e+00, 0.0000e+00,\n",
       "           6.4382e-03, 0.0000e+00, 0.0000e+00, 1.5229e-03, 0.0000e+00,\n",
       "           0.0000e+00, 0.0000e+00, 0.0000e+00, 0.0000e+00, 6.1369e-02,\n",
       "           0.0000e+00, 0.0000e+00, 9.0455e-03, 0.0000e+00, 0.0000e+00,\n",
       "           2.3585e-02, 0.0000e+00, 0.0000e+00, 1.0907e-02, 0.0000e+00,\n",
       "           1.8028e-02, 0.0000e+00, 1.3333e-02],\n",
       "          [0.0000e+00, 0.0000e+00, 8.8409e-03, 0.0000e+00, 0.0000e+00,\n",
       "           0.0000e+00, 0.0000e+00, 0.0000e+00, 0.0000e+00, 1.1131e-02,\n",
       "           0.0000e+00, 0.0000e+00, 0.0000e+00, 1.3360e-02, 0.0000e+00,\n",
       "           4.9214e-02, 0.0000e+00, 0.0000e+00, 0.0000e+00, 1.8356e-03,\n",
       "           0.0000e+00, 0.0000e+00, 0.0000e+00, 0.0000e+00, 0.0000e+00,\n",
       "           0.0000e+00, 0.0000e+00, 4.2212e-03],\n",
       "          [2.0513e-02, 0.0000e+00, 0.0000e+00, 0.0000e+00, 0.0000e+00,\n",
       "           0.0000e+00, 0.0000e+00, 2.3485e-02, 5.6521e-03, 0.0000e+00,\n",
       "           0.0000e+00, 3.6899e-02, 0.0000e+00, 0.0000e+00, 5.8043e-02,\n",
       "           0.0000e+00, 0.0000e+00, 0.0000e+00, 0.0000e+00, 0.0000e+00,\n",
       "           0.0000e+00, 0.0000e+00, 4.1674e-02, 0.0000e+00, 3.5961e-02,\n",
       "           0.0000e+00, 2.0720e-02, 2.7497e-02],\n",
       "          [7.6891e-03, 0.0000e+00, 1.2927e-02, 2.0522e-02, 4.4372e-03,\n",
       "           1.0807e-02, 1.6359e-02, 9.2055e-03, 1.2713e-02, 2.4460e-02,\n",
       "           1.6570e-02, 9.7847e-03, 5.0353e-02, 2.4779e-02, 0.0000e+00,\n",
       "           3.8965e-02, 0.0000e+00, 0.0000e+00, 0.0000e+00, 2.8856e-02,\n",
       "           0.0000e+00, 0.0000e+00, 0.0000e+00, 1.1368e-02, 0.0000e+00,\n",
       "           0.0000e+00, 0.0000e+00, 2.4320e-02],\n",
       "          [2.8124e-04, 0.0000e+00, 0.0000e+00, 1.6586e-03, 0.0000e+00,\n",
       "           0.0000e+00, 0.0000e+00, 2.0256e-02, 3.6973e-02, 1.3754e-02,\n",
       "           0.0000e+00, 3.6084e-02, 4.2996e-03, 3.7166e-04, 0.0000e+00,\n",
       "           0.0000e+00, 0.0000e+00, 0.0000e+00, 0.0000e+00, 0.0000e+00,\n",
       "           3.4899e-03, 0.0000e+00, 0.0000e+00, 0.0000e+00, 0.0000e+00,\n",
       "           0.0000e+00, 7.4924e-03, 1.6510e-02],\n",
       "          [0.0000e+00, 0.0000e+00, 2.0242e-02, 0.0000e+00, 0.0000e+00,\n",
       "           6.3853e-03, 2.0526e-03, 5.8025e-03, 1.0953e-03, 1.3082e-02,\n",
       "           0.0000e+00, 0.0000e+00, 1.5058e-02, 0.0000e+00, 0.0000e+00,\n",
       "           0.0000e+00, 0.0000e+00, 0.0000e+00, 0.0000e+00, 1.4162e-02,\n",
       "           0.0000e+00, 1.6078e-02, 1.1943e-02, 0.0000e+00, 2.5489e-02,\n",
       "           2.0273e-03, 2.2602e-03, 1.1330e-02],\n",
       "          [3.9702e-03, 0.0000e+00, 2.2121e-02, 8.6510e-03, 0.0000e+00,\n",
       "           0.0000e+00, 1.0569e-02, 1.5282e-02, 0.0000e+00, 0.0000e+00,\n",
       "           0.0000e+00, 0.0000e+00, 0.0000e+00, 3.0521e-02, 0.0000e+00,\n",
       "           0.0000e+00, 0.0000e+00, 0.0000e+00, 0.0000e+00, 2.7477e-02,\n",
       "           7.8835e-03, 0.0000e+00, 0.0000e+00, 0.0000e+00, 0.0000e+00,\n",
       "           0.0000e+00, 2.7440e-02, 0.0000e+00],\n",
       "          [2.4437e-03, 0.0000e+00, 6.8839e-03, 0.0000e+00, 5.2460e-03,\n",
       "           0.0000e+00, 0.0000e+00, 0.0000e+00, 0.0000e+00, 0.0000e+00,\n",
       "           0.0000e+00, 0.0000e+00, 6.3271e-03, 0.0000e+00, 0.0000e+00,\n",
       "           0.0000e+00, 0.0000e+00, 0.0000e+00, 1.5184e-02, 0.0000e+00,\n",
       "           3.6324e-02, 2.6465e-02, 3.8632e-02, 0.0000e+00, 2.7350e-03,\n",
       "           1.8421e-02, 0.0000e+00, 2.8668e-02],\n",
       "          [0.0000e+00, 0.0000e+00, 1.8467e-02, 0.0000e+00, 2.8987e-03,\n",
       "           0.0000e+00, 0.0000e+00, 0.0000e+00, 6.4348e-03, 0.0000e+00,\n",
       "           1.4823e-02, 0.0000e+00, 0.0000e+00, 0.0000e+00, 0.0000e+00,\n",
       "           0.0000e+00, 1.4831e-03, 0.0000e+00, 0.0000e+00, 0.0000e+00,\n",
       "           0.0000e+00, 0.0000e+00, 0.0000e+00, 5.1254e-03, 7.5614e-03,\n",
       "           8.2781e-03, 7.4605e-03, 0.0000e+00],\n",
       "          [1.6028e-02, 0.0000e+00, 0.0000e+00, 0.0000e+00, 0.0000e+00,\n",
       "           1.3439e-02, 0.0000e+00, 0.0000e+00, 0.0000e+00, 4.0737e-03,\n",
       "           0.0000e+00, 3.3518e-03, 0.0000e+00, 0.0000e+00, 1.0588e-02,\n",
       "           0.0000e+00, 0.0000e+00, 0.0000e+00, 0.0000e+00, 0.0000e+00,\n",
       "           0.0000e+00, 3.3821e-02, 2.9566e-03, 0.0000e+00, 2.2751e-02,\n",
       "           0.0000e+00, 0.0000e+00, 0.0000e+00],\n",
       "          [0.0000e+00, 0.0000e+00, 0.0000e+00, 0.0000e+00, 1.3518e-03,\n",
       "           0.0000e+00, 0.0000e+00, 4.6130e-03, 0.0000e+00, 0.0000e+00,\n",
       "           0.0000e+00, 0.0000e+00, 0.0000e+00, 3.6602e-03, 5.5302e-05,\n",
       "           0.0000e+00, 2.1552e-02, 0.0000e+00, 2.0295e-02, 0.0000e+00,\n",
       "           0.0000e+00, 0.0000e+00, 1.1768e-05, 0.0000e+00, 0.0000e+00,\n",
       "           1.3705e-02, 6.7222e-03, 4.3026e-02],\n",
       "          [1.3943e-02, 0.0000e+00, 3.0599e-02, 9.6481e-04, 0.0000e+00,\n",
       "           1.2083e-02, 1.3082e-02, 1.3218e-02, 2.1533e-02, 2.8096e-02,\n",
       "           1.1444e-02, 0.0000e+00, 0.0000e+00, 0.0000e+00, 0.0000e+00,\n",
       "           5.5199e-03, 1.9590e-02, 1.7758e-02, 0.0000e+00, 0.0000e+00,\n",
       "           0.0000e+00, 1.2150e-02, 0.0000e+00, 0.0000e+00, 0.0000e+00,\n",
       "           1.0941e-02, 0.0000e+00, 6.1676e-03]]]], device='cuda:0',\n",
       "       grad_fn=<ReluBackward0>)"
      ]
     },
     "execution_count": 31,
     "metadata": {},
     "output_type": "execute_result"
    }
   ],
   "source": [
    "model_denoise.eval()\n",
    "model_denoise(noisy_test[0:1].unsqueeze(0))"
   ]
  },
  {
   "cell_type": "code",
   "execution_count": 32,
   "id": "impressed-tampa",
   "metadata": {},
   "outputs": [
    {
     "data": {
      "application/vnd.jupyter.widget-view+json": {
       "model_id": "aa8f095e23a24698b34310e78e952ae3",
       "version_major": 2,
       "version_minor": 0
      },
      "text/plain": [
       "  0%|          | 0/3 [00:00<?, ?it/s]"
      ]
     },
     "metadata": {},
     "output_type": "display_data"
    },
    {
     "name": "stdout",
     "output_type": "stream",
     "text": [
      "torch.Size([1, 1, 28, 28])\n",
      "torch.Size([1, 1, 28, 28])\n",
      "torch.Size([1, 1, 28, 28])\n",
      "tensor(0.1156, device='cuda:0', grad_fn=<MseLossBackward>)\n",
      "Epoch:   1; Train-Loss: 0.0199154\n",
      "Epoch:   2; Train-Loss: 0.0086842\n",
      "Epoch:   3; Train-Loss: 0.0079192\n"
     ]
    }
   ],
   "source": [
    "model_denoise.train()\n",
    "train(model_denoise, noisy_train[:1000].unsqueeze(1), sig_train[:1000].unsqueeze(1), \n",
    "      loss_denoise, optimizer_denoise, 3)"
   ]
  },
  {
   "cell_type": "markdown",
   "id": "civilian-coupon",
   "metadata": {},
   "source": [
    "### Evaluate"
   ]
  },
  {
   "cell_type": "code",
   "execution_count": 33,
   "id": "promotional-intermediate",
   "metadata": {},
   "outputs": [],
   "source": [
    "model_denoise.eval()\n",
    "denoised = model_denoise(noisy_test.unsqueeze(1).float())"
   ]
  },
  {
   "cell_type": "code",
   "execution_count": 34,
   "id": "featured-frank",
   "metadata": {},
   "outputs": [
    {
     "data": {
      "image/png": "[encoded data removed]",
      "text/plain": [
       "<Figure size 1440x576 with 10 Axes>"
      ]
     },
     "metadata": {
      "needs_background": "light"
     },
     "output_type": "display_data"
    }
   ],
   "source": [
    "plt.figure(figsize=(20,8))\n",
    "for i in range(5):\n",
    "    plt.subplot(2,5,1+i)\n",
    "    plt.imshow(noisy_test[i].cpu())\n",
    "for i in range(5):\n",
    "    plt.subplot(2,5,6+i)\n",
    "    plt.imshow(denoised.cpu().detach().numpy()[i][0])"
   ]
  },
  {
   "cell_type": "code",
   "execution_count": null,
   "id": "anticipated-expansion",
   "metadata": {},
   "outputs": [],
   "source": []
  }
 ],
 "metadata": {
  "kernelspec": {
   "display_name": "Python [conda env:dlpt] *",
   "language": "python",
   "name": "conda-env-dlpt-py"
  },
  "language_info": {
   "codemirror_mode": {
    "name": "ipython",
    "version": 3
   },
   "file_extension": ".py",
   "mimetype": "text/x-python",
   "name": "python",
   "nbconvert_exporter": "python",
   "pygments_lexer": "ipython3",
   "version": "3.7.10"
  }
 },
 "nbformat": 4,
 "nbformat_minor": 5
}
