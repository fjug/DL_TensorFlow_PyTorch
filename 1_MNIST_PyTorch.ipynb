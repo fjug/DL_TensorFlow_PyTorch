{
 "cells": [
  {
   "cell_type": "code",
   "execution_count": 1,
   "id": "surgical-press",
   "metadata": {},
   "outputs": [],
   "source": [
    "import torch\n",
    "\n",
    "from torch import nn\n",
    "from torch.nn import functional as F\n",
    "\n",
    "import numpy as np\n",
    "\n",
    "import matplotlib.pyplot as plt\n",
    "\n",
    "from tqdm.notebook import tqdm\n",
    "\n",
    "import torchvision"
   ]
  },
  {
   "cell_type": "code",
   "execution_count": 2,
   "id": "trying-rugby",
   "metadata": {},
   "outputs": [],
   "source": [
    "# Use your own path ;)\n",
    "mnist_train = torchvision.datasets.MNIST('Data/mnist', train=True, download=False,\n",
    "                                         transform=torchvision.transforms.Compose([\n",
    "                                            torchvision.transforms.ToTensor()\n",
    "                                         ]))"
   ]
  },
  {
   "cell_type": "code",
   "execution_count": 3,
   "id": "bored-first",
   "metadata": {},
   "outputs": [],
   "source": [
    "x_train = mnist_train.data.type(torch.float32)\n",
    "x_train /= 255.\n",
    "y_train = mnist_train.targets"
   ]
  },
  {
   "cell_type": "code",
   "execution_count": 4,
   "id": "rocky-profession",
   "metadata": {},
   "outputs": [
    {
     "name": "stdout",
     "output_type": "stream",
     "text": [
      "torch.Size([60000, 28, 28])\n",
      "torch.Size([60000])\n"
     ]
    }
   ],
   "source": [
    "print(x_train.shape)\n",
    "print(y_train.shape)"
   ]
  },
  {
   "cell_type": "code",
   "execution_count": 5,
   "id": "thermal-deficit",
   "metadata": {},
   "outputs": [
    {
     "data": {
      "image/png": "[encoded data removed]",
      "text/plain": [
       "<Figure size 720x360 with 4 Axes>"
      ]
     },
     "metadata": {
      "needs_background": "light"
     },
     "output_type": "display_data"
    }
   ],
   "source": [
    "plt.figure(figsize=(10,5))\n",
    "plt.subplot(1,2,1)\n",
    "plt.imshow(x_train[0])\n",
    "plt.colorbar()\n",
    "plt.title(y_train[0].item());\n",
    "plt.subplot(1,2,2)\n",
    "plt.imshow(x_train[1000])\n",
    "plt.colorbar()\n",
    "plt.title(y_train[1000].item());"
   ]
  },
  {
   "cell_type": "markdown",
   "id": "infectious-square",
   "metadata": {},
   "source": [
    "# Tasks\n",
    "* Train a classifier with fully-connected layers only.\n",
    "* Train a classifier with convolutions only.\n",
    "* Train a classifier with convolutions and fully-connected layers.\n",
    "* Train a denoising network. Note, you have to create some noisy observations first ;)"
   ]
  },
  {
   "cell_type": "markdown",
   "id": "waiting-priority",
   "metadata": {},
   "source": [
    "# 1. Create model"
   ]
  },
  {
   "cell_type": "code",
   "execution_count": 6,
   "id": "understood-model",
   "metadata": {},
   "outputs": [],
   "source": [
    "class MyModel_FullyDense(nn.Module):\n",
    "    def __init__(self):\n",
    "        super(MyModel_FullyDense, self).__init__()\n",
    "        self.dense1 = nn.Linear(28*28,32)\n",
    "        self.relu = nn.ReLU()\n",
    "        self.dense2 = nn.Linear(32,10)\n",
    "        self.softmax = nn.Softmax(1)\n",
    "\n",
    "    def forward(self, x):\n",
    "        x = self.dense1(x)\n",
    "        x = self.relu(x)\n",
    "        x = self.dense2(x)\n",
    "        return self.softmax(x)"
   ]
  },
  {
   "cell_type": "code",
   "execution_count": 7,
   "id": "cardiovascular-mission",
   "metadata": {},
   "outputs": [],
   "source": [
    " class MyModel_FullyConv(nn.Module):\n",
    "    def __init__(self):\n",
    "        super(MyModel_FullyConv, self).__init__()\n",
    "        self.conv1 = nn.Conv2d(1, 10, kernel_size=3)       # 28-2 = 26\n",
    "        self.conv2 = nn.Conv2d(10, 10, kernel_size=3)      # -2   = 24\n",
    "        self.pool1 = nn.MaxPool2d(kernel_size=2,stride=2)  # /2   = 12\n",
    "        self.conv3 = nn.Conv2d(10, 10, kernel_size=3)      # -2   = 10\n",
    "        # - - - - - - - - - \n",
    "        self.pool2 = nn.MaxPool2d(kernel_size=2,stride=2)  # /2   = 5\n",
    "        self.conv4 = nn.Conv2d(10, 10, kernel_size=5)      # -4   = 10\n",
    "        self.flat  = nn.Flatten(start_dim=1)\n",
    "\n",
    "    def forward(self, x):\n",
    "        x = F.relu(self.conv1(x))\n",
    "        x = F.relu(self.conv2(x))\n",
    "        x = self.pool1(x)\n",
    "        x = F.relu(self.conv3(x))\n",
    "        x = self.pool2(x)        \n",
    "        x = F.relu(self.conv4(x))\n",
    "        x = self.flat(x)\n",
    "        return F.softmax(x,dim=1)"
   ]
  },
  {
   "cell_type": "code",
   "execution_count": 8,
   "id": "artistic-taxation",
   "metadata": {},
   "outputs": [],
   "source": [
    " class MyModel_Mixed(nn.Module):\n",
    "    def __init__(self):\n",
    "        super(MyModel_Mixed, self).__init__()\n",
    "        self.conv1 = nn.Conv2d(1, 10, kernel_size=5)\n",
    "        self.conv2 = nn.Conv2d(10, 20, kernel_size=5)\n",
    "        self.conv2_drop = nn.Dropout2d()\n",
    "        self.fc1 = nn.Linear(320, 50)\n",
    "        self.fc2 = nn.Linear(50, 10)\n",
    "\n",
    "    def forward(self, x):\n",
    "        x = F.relu(F.max_pool2d(self.conv1(x), 2))\n",
    "        x = F.relu(F.max_pool2d(self.conv2_drop(self.conv2(x)), 2))\n",
    "        x = x.view(-1, 320)\n",
    "        x = F.relu(self.fc1(x))\n",
    "        x = F.dropout(x, training=self.training)\n",
    "        x = self.fc2(x)\n",
    "        return F.softmax(x,dim=1)"
   ]
  },
  {
   "cell_type": "markdown",
   "id": "earlier-diversity",
   "metadata": {},
   "source": [
    "# 2. Test if model runs"
   ]
  },
  {
   "cell_type": "code",
   "execution_count": 9,
   "id": "attached-footage",
   "metadata": {},
   "outputs": [
    {
     "data": {
      "text/plain": [
       "tensor([[0.0916, 0.0917, 0.1273, 0.0872, 0.0903, 0.0958, 0.0969, 0.1047, 0.1128,\n",
       "         0.1016]], grad_fn=<SoftmaxBackward>)"
      ]
     },
     "execution_count": 9,
     "metadata": {},
     "output_type": "execute_result"
    }
   ],
   "source": [
    "model_fdense = MyModel_FullyDense()\n",
    "model_fdense.eval()\n",
    "model_fdense(x_train[0].flatten().unsqueeze(0))"
   ]
  },
  {
   "cell_type": "code",
   "execution_count": 10,
   "id": "relevant-activation",
   "metadata": {},
   "outputs": [
    {
     "data": {
      "text/plain": [
       "tensor([[nan, nan, nan, nan, nan, nan, nan, nan, nan, nan]],\n",
       "       grad_fn=<SoftmaxBackward>)"
      ]
     },
     "execution_count": 10,
     "metadata": {},
     "output_type": "execute_result"
    }
   ],
   "source": [
    "model_fconv = MyModel_FullyConv()\n",
    "model_fconv.eval()\n",
    "model_fconv(x_train[0:1].unsqueeze(1))"
   ]
  },
  {
   "cell_type": "code",
   "execution_count": 11,
   "id": "educational-storm",
   "metadata": {},
   "outputs": [
    {
     "data": {
      "text/plain": [
       "tensor([[0.0937, 0.0911, 0.0977, 0.1047, 0.1040, 0.0915, 0.1082, 0.0941, 0.1079,\n",
       "         0.1073]], grad_fn=<SoftmaxBackward>)"
      ]
     },
     "execution_count": 11,
     "metadata": {},
     "output_type": "execute_result"
    }
   ],
   "source": [
    "model_mixed = MyModel_Mixed()\n",
    "model_mixed.eval()\n",
    "model_mixed(x_train[0:1].unsqueeze(1))"
   ]
  },
  {
   "cell_type": "markdown",
   "id": "authentic-cleaner",
   "metadata": {},
   "source": [
    "# 3. Choose loss-function and optimizer"
   ]
  },
  {
   "cell_type": "code",
   "execution_count": 12,
   "id": "worst-south",
   "metadata": {},
   "outputs": [],
   "source": [
    "loss_function = F.nll_loss\n",
    "optimizer_fdense = torch.optim.Adam(model_fdense.parameters(), lr=0.0001)\n",
    "optimizer_fconv = torch.optim.Adam(model_fconv.parameters(), lr=0.0001)\n",
    "optimizer_mixed = torch.optim.Adam(model_mixed.parameters(), lr=0.0001)"
   ]
  },
  {
   "cell_type": "markdown",
   "id": "expanded-aquatic",
   "metadata": {},
   "source": [
    "# 4. Write train-loop + train\n",
    "\n",
    "__Note:__ If you want to train on GPU just call `model.cuda()` to move the model to GPU. Don't forget to move the training data to GPU as well. You can call `x.cuda()` to move a tensor to GPU."
   ]
  },
  {
   "cell_type": "code",
   "execution_count": 13,
   "id": "numeric-variable",
   "metadata": {},
   "outputs": [],
   "source": [
    "def train(model, x, y, loss_function, optimizer, num_epochs):\n",
    "    # Make sure that the model is in train-mode\n",
    "    model.train()\n",
    "    first = True\n",
    "    \n",
    "    running_loss = 0.0\n",
    "    for e in tqdm(range(num_epochs)):\n",
    "        for x_, y_ in zip(x, y):\n",
    "            x_ = x_.unsqueeze(0)\n",
    "            y_ = y_.unsqueeze(0)\n",
    "            if first:\n",
    "                print(x_.shape)\n",
    "                print(y_.shape)\n",
    "#                 first = False\n",
    "\n",
    "            # zero the parameter gradients\n",
    "            optimizer.zero_grad()\n",
    "\n",
    "            # forward + backward + optimize\n",
    "            y_hat = model(x_)\n",
    "            if first:\n",
    "#                 print(y_hat)\n",
    "                print(y_hat.shape)\n",
    "#                 first = False\n",
    "\n",
    "            loss = loss_function(y_hat, y_)\n",
    "            if first:\n",
    "                print(loss)\n",
    "                first = False\n",
    "\n",
    "            loss.backward()\n",
    "            optimizer.step()\n",
    "            \n",
    "            running_loss += loss.item() # .item() returns the scalar value of the tensor.\n",
    "            \n",
    "        running_loss /= len(x)\n",
    "        print('Epoch: %3d; Train-Loss: %.7f'%(e+1, running_loss))\n",
    "        running_loss = 0.0"
   ]
  },
  {
   "cell_type": "code",
   "execution_count": 14,
   "id": "helpful-astronomy",
   "metadata": {},
   "outputs": [
    {
     "data": {
      "application/vnd.jupyter.widget-view+json": {
       "model_id": "badd3346a55449d0878d456a5279f9c2",
       "version_major": 2,
       "version_minor": 0
      },
      "text/plain": [
       "  0%|          | 0/10 [00:00<?, ?it/s]"
      ]
     },
     "metadata": {},
     "output_type": "display_data"
    },
    {
     "name": "stdout",
     "output_type": "stream",
     "text": [
      "torch.Size([1, 784])\n",
      "torch.Size([1])\n",
      "torch.Size([1, 10])\n",
      "tensor(-0.0958, grad_fn=<NllLossBackward>)\n",
      "Epoch:   1; Train-Loss: -0.1454299\n",
      "Epoch:   2; Train-Loss: -0.3511623\n",
      "Epoch:   3; Train-Loss: -0.5182946\n",
      "Epoch:   4; Train-Loss: -0.5971208\n",
      "Epoch:   5; Train-Loss: -0.6466031\n",
      "Epoch:   6; Train-Loss: -0.6895949\n",
      "Epoch:   7; Train-Loss: -0.7337380\n",
      "Epoch:   8; Train-Loss: -0.7651151\n",
      "Epoch:   9; Train-Loss: -0.7886125\n",
      "Epoch:  10; Train-Loss: -0.8074214\n"
     ]
    }
   ],
   "source": [
    "model_fdense.train()\n",
    "train(model_fdense, x_train[:1000].flatten(start_dim=1), y_train, loss_function, optimizer_fdense, 10)"
   ]
  },
  {
   "cell_type": "code",
   "execution_count": 15,
   "id": "forward-probability",
   "metadata": {},
   "outputs": [
    {
     "data": {
      "application/vnd.jupyter.widget-view+json": {
       "model_id": "d6bd95fe846744b2a60c0c2dfa7a0b52",
       "version_major": 2,
       "version_minor": 0
      },
      "text/plain": [
       "  0%|          | 0/3 [00:00<?, ?it/s]"
      ]
     },
     "metadata": {},
     "output_type": "display_data"
    },
    {
     "name": "stdout",
     "output_type": "stream",
     "text": [
      "torch.Size([1, 1, 28, 28])\n",
      "torch.Size([1])\n",
      "torch.Size([1, 10])\n",
      "tensor(nan, grad_fn=<NllLossBackward>)\n",
      "Epoch:   1; Train-Loss: nan\n",
      "Epoch:   2; Train-Loss: nan\n",
      "Epoch:   3; Train-Loss: nan\n"
     ]
    }
   ],
   "source": [
    "model_fconv.train()\n",
    "train(model_fconv, x_train[:1000].unsqueeze(1), y_train, loss_function, optimizer_fconv, 3)"
   ]
  },
  {
   "cell_type": "code",
   "execution_count": 16,
   "id": "accessory-welcome",
   "metadata": {},
   "outputs": [
    {
     "data": {
      "application/vnd.jupyter.widget-view+json": {
       "model_id": "0101936cd0a249ae88085541c72bc1b4",
       "version_major": 2,
       "version_minor": 0
      },
      "text/plain": [
       "  0%|          | 0/10 [00:00<?, ?it/s]"
      ]
     },
     "metadata": {},
     "output_type": "display_data"
    },
    {
     "name": "stdout",
     "output_type": "stream",
     "text": [
      "torch.Size([1, 1, 28, 28])\n",
      "torch.Size([1])\n",
      "torch.Size([1, 10])\n",
      "tensor(-0.0950, grad_fn=<NllLossBackward>)\n",
      "Epoch:   1; Train-Loss: -0.1035657\n",
      "Epoch:   2; Train-Loss: -0.1735227\n",
      "Epoch:   3; Train-Loss: -0.3704089\n",
      "Epoch:   4; Train-Loss: -0.4892213\n",
      "Epoch:   5; Train-Loss: -0.5432482\n",
      "Epoch:   6; Train-Loss: -0.5751317\n",
      "Epoch:   7; Train-Loss: -0.5976481\n",
      "Epoch:   8; Train-Loss: -0.6185282\n",
      "Epoch:   9; Train-Loss: -0.6404824\n",
      "Epoch:  10; Train-Loss: -0.6410763\n"
     ]
    }
   ],
   "source": [
    "model_mixed.train()\n",
    "train(model_mixed, x_train[:1000].unsqueeze(1), y_train, loss_function, optimizer_mixed, 10)"
   ]
  },
  {
   "cell_type": "markdown",
   "id": "meaningful-multimedia",
   "metadata": {},
   "source": [
    "# 5. Evaluate"
   ]
  },
  {
   "cell_type": "code",
   "execution_count": 17,
   "id": "preliminary-joseph",
   "metadata": {},
   "outputs": [],
   "source": [
    "model_fdense.eval()\n",
    "preds_fdense = model_fdense(x_train.flatten(start_dim=1))"
   ]
  },
  {
   "cell_type": "code",
   "execution_count": 18,
   "id": "graphic-rainbow",
   "metadata": {},
   "outputs": [],
   "source": [
    "model_fconv.eval()\n",
    "preds_fconv = model_fconv(x_train.unsqueeze(1))"
   ]
  },
  {
   "cell_type": "code",
   "execution_count": 19,
   "id": "bigger-buffer",
   "metadata": {},
   "outputs": [],
   "source": [
    "model_mixed.eval()\n",
    "preds_mixed = model_mixed(x_train.unsqueeze(1))"
   ]
  },
  {
   "cell_type": "code",
   "execution_count": 20,
   "id": "interior-failure",
   "metadata": {},
   "outputs": [
    {
     "data": {
      "image/png": "[encoded data removed]",
      "text/plain": [
       "<Figure size 1728x360 with 4 Axes>"
      ]
     },
     "metadata": {
      "needs_background": "light"
     },
     "output_type": "display_data"
    },
    {
     "data": {
      "image/png": "[encoded data removed]",
      "text/plain": [
       "<Figure size 1728x360 with 4 Axes>"
      ]
     },
     "metadata": {
      "needs_background": "light"
     },
     "output_type": "display_data"
    },
    {
     "data": {
      "image/png": "[encoded data removed]",
      "text/plain": [
       "<Figure size 1728x360 with 4 Axes>"
      ]
     },
     "metadata": {
      "needs_background": "light"
     },
     "output_type": "display_data"
    },
    {
     "data": {
      "image/png": "[encoded data removed]",
      "text/plain": [
       "<Figure size 1728x360 with 4 Axes>"
      ]
     },
     "metadata": {
      "needs_background": "light"
     },
     "output_type": "display_data"
    },
    {
     "data": {
      "image/png": "[encoded data removed]",
      "text/plain": [
       "<Figure size 1728x360 with 4 Axes>"
      ]
     },
     "metadata": {
      "needs_background": "light"
     },
     "output_type": "display_data"
    }
   ],
   "source": [
    "def plotarow(i,results):\n",
    "    plt.figure(figsize=(8*len(results),5))\n",
    "    plt.subplot(1,1+len(results),1)\n",
    "    plt.imshow(x_train[i])\n",
    "    for j in range(len(results)):\n",
    "        plt.subplot(1,1+len(results),2+j)\n",
    "        plt.bar([0,1,2,3,4,5,6,7,8,9],results[j].detach()[i])\n",
    "\n",
    "for i in range(5):\n",
    "    plotarow(i,[preds_fdense,preds_fconv,preds_mixed])"
   ]
  },
  {
   "cell_type": "markdown",
   "id": "wrong-balance",
   "metadata": {},
   "source": [
    "### Create Noisy Data"
   ]
  },
  {
   "cell_type": "code",
   "execution_count": 21,
   "id": "suburban-installation",
   "metadata": {},
   "outputs": [],
   "source": [
    "sig_train = x_train[:50000]\n",
    "sig_test = x_train[50000:]"
   ]
  },
  {
   "cell_type": "code",
   "execution_count": 22,
   "id": "enormous-meter",
   "metadata": {},
   "outputs": [
    {
     "data": {
      "text/plain": [
       "torch.float32"
      ]
     },
     "execution_count": 22,
     "metadata": {},
     "output_type": "execute_result"
    }
   ],
   "source": [
    "sig_train.dtype"
   ]
  },
  {
   "cell_type": "code",
   "execution_count": 23,
   "id": "blond-atlanta",
   "metadata": {},
   "outputs": [],
   "source": [
    "def noise(imgs,sigma=.33):\n",
    "    return imgs+np.array( np.random.normal(0, sigma, size=imgs.shape), dtype=np.float32)\n",
    "\n",
    "    \n",
    "noisy_train = noise(sig_train)\n",
    "noisy_test = noise(sig_test)"
   ]
  },
  {
   "cell_type": "code",
   "execution_count": 24,
   "id": "loose-liberal",
   "metadata": {},
   "outputs": [
    {
     "data": {
      "text/plain": [
       "torch.float32"
      ]
     },
     "execution_count": 24,
     "metadata": {},
     "output_type": "execute_result"
    }
   ],
   "source": [
    "noisy_train.dtype"
   ]
  },
  {
   "cell_type": "code",
   "execution_count": 25,
   "id": "multiple-benefit",
   "metadata": {},
   "outputs": [
    {
     "data": {
      "text/plain": [
       "array([[ 4.76579309e-01,  1.68341413e-01, -2.66526520e-01,\n",
       "         2.80086011e-01, -5.29246926e-01,  7.66457096e-02,\n",
       "        -5.30303597e-01, -5.22480249e-01, -2.78478749e-02,\n",
       "         1.68290660e-01, -6.73847198e-02,  6.83171749e-01,\n",
       "         3.69925141e-01, -3.80763352e-01,  1.11719266e-01,\n",
       "         1.23506524e-01,  1.29545346e-01, -2.49236360e-01,\n",
       "        -9.09054130e-02,  2.60977358e-01,  1.73977271e-01,\n",
       "        -4.61974323e-01,  7.77953506e-01, -4.14458245e-01,\n",
       "         1.93521500e-01, -2.03042477e-01,  1.35680944e-01,\n",
       "         1.23264022e-01],\n",
       "       [-8.57642770e-01, -3.70580256e-01,  6.44546971e-02,\n",
       "         2.80176699e-01, -4.94249922e-04,  4.93807673e-01,\n",
       "        -7.93551877e-02,  3.94116044e-02,  7.41153717e-01,\n",
       "         3.45066279e-01, -1.07941940e-01,  3.01338106e-01,\n",
       "        -7.48098269e-02, -2.52965808e-01, -2.69253314e-01,\n",
       "         4.87741619e-01,  4.30914164e-01,  2.34567747e-01,\n",
       "         4.33692783e-01,  6.66631281e-01,  1.29785135e-01,\n",
       "        -3.84319752e-01, -6.74649298e-01, -6.48914456e-01,\n",
       "        -9.68779325e-02, -1.24276271e-02, -4.44427252e-01,\n",
       "         1.58215225e-01],\n",
       "       [-4.83787030e-01, -3.04886997e-01, -4.15934250e-02,\n",
       "         1.68618336e-01,  2.20461890e-01,  6.20251633e-02,\n",
       "         6.15447164e-02,  1.76987797e-01, -7.26017952e-01,\n",
       "        -1.04286179e-01,  6.04281187e-01,  3.73470262e-02,\n",
       "         2.93829404e-02,  5.45720994e-01, -5.64932466e-01,\n",
       "         2.66095251e-01,  2.72900403e-01, -9.96659175e-02,\n",
       "         4.74646874e-02, -4.70075458e-01,  5.56870341e-01,\n",
       "        -4.30746734e-01, -3.35406274e-01,  3.55514318e-01,\n",
       "         9.45250764e-02, -3.95772338e-01,  3.67647320e-01,\n",
       "        -2.31389195e-01],\n",
       "       [-1.75700143e-01,  2.02587336e-01,  4.15888131e-01,\n",
       "        -2.16991991e-01,  2.81645358e-01, -2.03975633e-01,\n",
       "        -2.48854354e-01,  4.34157789e-01,  5.90205789e-01,\n",
       "        -4.96324807e-01, -1.01533234e-01,  3.09148461e-01,\n",
       "        -3.58929962e-01,  5.38068311e-03, -4.41847652e-01,\n",
       "        -2.87633836e-01,  5.06861687e-01, -1.96621791e-01,\n",
       "        -5.50011933e-01,  1.35097712e-01,  8.89327552e-04,\n",
       "        -2.33043402e-01, -2.91694671e-01,  2.67154843e-01,\n",
       "        -1.58108607e-01, -4.44188714e-01, -1.25796750e-01,\n",
       "         2.21401274e-01],\n",
       "       [-2.14086309e-01, -6.75572306e-02,  2.37909764e-01,\n",
       "         5.71119249e-01, -4.30938303e-01, -9.69278906e-03,\n",
       "         5.77871501e-01, -2.28767261e-01,  3.94409776e-01,\n",
       "         1.65082514e-01,  4.26319718e-01,  4.88045335e-01,\n",
       "         4.59916621e-01,  1.09599328e+00,  3.80083621e-01,\n",
       "        -1.62244648e-01, -9.69090164e-02,  5.97129017e-02,\n",
       "         3.47070634e-01,  6.16890907e-01,  1.03696048e-01,\n",
       "        -1.63520545e-01,  1.39865026e-01,  8.58261704e-01,\n",
       "         6.86204910e-01,  2.66058803e-01, -4.26479191e-01,\n",
       "         3.10835421e-01],\n",
       "       [-2.08053723e-01, -1.69682175e-01, -2.03822210e-01,\n",
       "         1.47772864e-01,  2.94553459e-01, -3.65149051e-01,\n",
       "         5.26051931e-02,  1.79641262e-01, -1.42700076e-01,\n",
       "         2.02797621e-01,  7.00376630e-01,  9.43488300e-01,\n",
       "         4.22659338e-01,  1.20448458e+00,  3.70388389e-01,\n",
       "         1.10034931e+00,  8.19058180e-01,  7.71933436e-01,\n",
       "        -4.79487598e-01,  4.20200467e-01, -2.49845237e-01,\n",
       "        -1.75127685e-01,  3.15295756e-01,  5.59613407e-02,\n",
       "         9.45271134e-01,  4.02989060e-01, -8.96555036e-02,\n",
       "         1.48732170e-01],\n",
       "       [ 1.91310525e-01, -1.88493326e-01, -6.30468428e-02,\n",
       "        -6.20832145e-01, -6.88212872e-01, -5.94587326e-01,\n",
       "         4.27724421e-02,  3.03568572e-01,  2.76287824e-01,\n",
       "        -2.30714291e-01,  9.06566679e-01,  9.39142227e-01,\n",
       "         6.28142118e-01,  2.84835607e-01,  6.62732363e-01,\n",
       "         1.47131383e+00,  8.30080748e-01,  1.36638665e+00,\n",
       "         7.93256089e-02, -1.41707331e-01, -4.17734712e-01,\n",
       "         4.29417372e-01,  3.00575972e-01,  1.66894257e-01,\n",
       "         4.03806180e-01, -3.00693184e-01,  1.86753437e-01,\n",
       "         3.28164130e-01],\n",
       "       [ 1.11016899e-01,  4.86627579e-01, -5.53054400e-02,\n",
       "         6.07146978e-01,  6.61857963e-01,  2.94546753e-01,\n",
       "         5.37964940e-01, -5.47740877e-01, -1.33702949e-01,\n",
       "         3.26835185e-01,  2.51117975e-01, -4.01932120e-01,\n",
       "         1.16260096e-01, -2.02336773e-01,  3.68780077e-01,\n",
       "        -3.17868173e-01,  4.81041431e-01,  7.34212339e-01,\n",
       "         7.78234661e-01,  2.36426398e-01, -2.39418279e-02,\n",
       "        -1.35757774e-03, -3.78823221e-01,  3.72073799e-01,\n",
       "        -1.49825379e-01, -4.03897732e-01,  4.64684606e-01,\n",
       "        -9.35535952e-02],\n",
       "       [ 1.36708066e-01, -4.41065639e-01, -4.72538561e-01,\n",
       "        -1.79215848e-01, -1.17604092e-01,  1.33202508e-01,\n",
       "         4.28208075e-02,  3.57022494e-01,  3.37749094e-01,\n",
       "         1.11281082e-01,  5.76901615e-01,  2.50774413e-01,\n",
       "         5.85303605e-02,  5.43730140e-01, -2.03221500e-01,\n",
       "        -4.49151754e-01,  1.96516752e-01,  1.04813302e+00,\n",
       "         1.13529539e+00,  1.11830249e-01, -1.87287293e-02,\n",
       "         1.86883509e-01,  2.15083435e-01, -4.41385031e-01,\n",
       "         2.72919863e-01, -1.30859002e-01, -1.87189087e-01,\n",
       "        -7.97367748e-03],\n",
       "       [ 1.06837768e-02, -2.05186486e-01, -2.32943222e-01,\n",
       "        -2.28693232e-01,  9.43923742e-02,  2.60183960e-01,\n",
       "        -5.13886034e-01, -1.06809966e-01,  2.45738223e-01,\n",
       "        -5.77665806e-01, -3.23049761e-02, -1.69792846e-01,\n",
       "         5.60245216e-01,  8.46584439e-01,  1.20753879e-02,\n",
       "         2.62893252e-02,  2.23237813e-01,  9.32076395e-01,\n",
       "         1.31029201e+00, -2.85533547e-01,  1.06526203e-01,\n",
       "        -2.23637626e-01, -3.95695984e-01, -2.20894162e-02,\n",
       "         3.63028646e-02, -4.51293960e-02,  1.50963098e-01,\n",
       "         3.05113614e-01],\n",
       "       [ 4.29567307e-01,  2.37938538e-01,  3.07005346e-01,\n",
       "        -7.65711486e-01, -3.57295752e-01,  1.00096598e-01,\n",
       "        -3.01371157e-01,  5.01622915e-01, -4.95930821e-01,\n",
       "        -3.56024653e-02,  4.47300345e-01,  3.15384418e-01,\n",
       "         4.86452609e-01, -2.79187739e-01,  2.75559634e-01,\n",
       "         6.72268867e-01,  9.75122869e-01,  1.35713363e+00,\n",
       "         2.44268328e-01,  9.69418511e-02, -9.20040756e-02,\n",
       "        -3.24125648e-01, -1.84715912e-01, -2.93668747e-01,\n",
       "         2.80292183e-01,  2.85154432e-01,  6.37580380e-02,\n",
       "         5.44652879e-01],\n",
       "       [-8.44905451e-02, -1.97430372e-01,  1.80511579e-01,\n",
       "         4.49661128e-02,  3.86178255e-01, -1.33900121e-01,\n",
       "        -6.65804595e-02,  1.15158826e-01, -1.69665515e-01,\n",
       "         2.54715949e-01, -6.96834475e-02,  1.76236719e-01,\n",
       "         3.77491191e-02, -2.52927810e-01,  8.97615671e-01,\n",
       "         1.19223464e+00,  7.90003479e-01,  4.37867701e-01,\n",
       "         2.69087553e-01, -3.10370743e-01, -2.25008503e-01,\n",
       "        -3.46914440e-01, -1.07099488e-01, -9.62086115e-03,\n",
       "        -6.88622296e-01,  3.28007281e-01,  3.87160331e-01,\n",
       "        -2.37849310e-01],\n",
       "       [-8.43882322e-01, -1.37968749e-01, -1.31858274e-01,\n",
       "        -8.62428010e-01,  3.06926280e-01, -3.41546893e-01,\n",
       "         5.14119327e-01,  3.32331985e-01, -1.64207920e-01,\n",
       "         1.09129056e-01,  2.34800532e-01,  4.72126871e-01,\n",
       "        -4.49950993e-01,  4.23887312e-01,  1.02001202e+00,\n",
       "         1.26738620e+00, -5.52972674e-01,  4.38242048e-01,\n",
       "        -5.45468889e-02,  1.40577495e-01, -9.30774491e-04,\n",
       "         7.11385369e-01,  6.95759654e-01,  1.68094039e-01,\n",
       "         3.20227981e-01, -3.59486073e-01, -7.58440122e-02,\n",
       "        -2.19101440e-02],\n",
       "       [ 4.87235673e-02,  9.80827585e-02,  3.55488092e-01,\n",
       "         2.47331649e-01, -6.38775527e-01,  5.94122708e-02,\n",
       "         4.72942144e-02,  2.31711745e-01, -1.04502425e-01,\n",
       "         2.38796696e-01,  3.14969152e-01,  1.42987728e-01,\n",
       "         7.47208476e-01,  5.25306821e-01,  3.72240216e-01,\n",
       "        -1.27135530e-01, -9.29449648e-02, -5.90085126e-02,\n",
       "        -6.80127228e-03,  1.49988040e-01, -4.18660268e-02,\n",
       "        -1.28403366e-01,  2.32318193e-02, -2.94932812e-01,\n",
       "        -2.36517116e-01, -2.20744386e-01, -2.08898589e-01,\n",
       "        -9.25691724e-01],\n",
       "       [ 2.53240287e-01,  3.99932534e-01, -1.15447603e-02,\n",
       "         4.52125520e-01, -8.08439404e-03, -6.71080127e-02,\n",
       "        -8.47760618e-01,  1.06125539e-02, -5.18761687e-02,\n",
       "         1.59598030e-02, -5.55378079e-01,  3.70847434e-01,\n",
       "         6.78968072e-01,  8.47181559e-01, -3.38613987e-03,\n",
       "        -6.60683572e-01, -1.64485171e-01,  3.06723118e-01,\n",
       "        -2.37860948e-01, -2.13314056e-01,  6.40147999e-02,\n",
       "         4.85830486e-01, -6.04631603e-01, -2.63396800e-01,\n",
       "        -6.83552492e-03,  3.88588868e-02, -1.91329792e-01,\n",
       "         6.84395432e-03],\n",
       "       [ 5.37253916e-01,  8.73015150e-02,  9.86783653e-02,\n",
       "         6.72684133e-01,  2.56084919e-01, -9.68911722e-02,\n",
       "        -1.13980055e-01,  2.28886828e-01,  4.14733171e-01,\n",
       "         5.85775018e-01, -2.43808813e-02,  4.26832765e-01,\n",
       "         8.49743307e-01,  6.82088137e-01,  1.00393248e+00,\n",
       "         1.00618780e+00,  8.85950327e-02, -1.43481895e-01,\n",
       "        -3.40147130e-02,  6.59757853e-01,  1.92262586e-02,\n",
       "        -2.82924801e-01,  2.49483198e-01, -2.85196435e-02,\n",
       "         1.32117450e-01, -5.05200446e-01,  1.16839528e-01,\n",
       "        -2.63757557e-01],\n",
       "       [-2.96877623e-02,  1.89383313e-01,  7.32031241e-02,\n",
       "         1.57594442e-01, -2.27927744e-01,  4.06986654e-01,\n",
       "         3.79965186e-01,  1.55445803e-02, -3.66685875e-02,\n",
       "         3.31072509e-01, -6.58090830e-01,  4.60943282e-02,\n",
       "         4.46136475e-01,  1.05015504e+00,  5.27720511e-01,\n",
       "         9.40240562e-01,  1.07257080e+00, -3.48784477e-01,\n",
       "         4.83570784e-01,  3.77048701e-01, -5.36621869e-01,\n",
       "         7.83075467e-02, -2.22975582e-01,  4.38670218e-01,\n",
       "         3.65191668e-01, -1.45181060e-01,  1.30373627e-01,\n",
       "         2.78509051e-01],\n",
       "       [ 1.62091866e-01, -1.06273279e-01, -1.02000797e+00,\n",
       "        -1.89715460e-01, -4.70282495e-01, -1.12695228e-02,\n",
       "         1.92281500e-01, -1.91738605e-01,  5.24942651e-02,\n",
       "        -2.21343815e-01, -6.41172156e-02,  5.31106768e-03,\n",
       "         2.03860641e-01, -7.67955482e-02,  1.21051657e+00,\n",
       "         1.16248727e+00,  9.24382567e-01,  1.32848597e+00,\n",
       "         5.04879653e-02, -5.17644525e-01, -3.54027510e-01,\n",
       "        -1.02942474e-01, -2.66225517e-01,  7.42074251e-02,\n",
       "        -1.95102453e-01, -5.90715826e-01, -5.29423356e-01,\n",
       "         1.78023726e-01],\n",
       "       [ 1.81967169e-01, -1.13744974e-01,  4.14155185e-01,\n",
       "         4.51208234e-01, -1.56771034e-01,  1.26842454e-01,\n",
       "        -4.03112948e-01,  5.64935565e-01,  3.97309095e-01,\n",
       "        -3.42410773e-01, -1.40176184e-04, -3.52303796e-02,\n",
       "        -1.16866089e-01, -1.52285650e-01, -9.82522517e-02,\n",
       "         8.42725515e-01,  1.21485138e+00,  8.97609472e-01,\n",
       "         4.98027921e-01, -5.08080907e-02, -8.39166045e-02,\n",
       "        -3.00585359e-01,  2.25275770e-01,  5.56122899e-01,\n",
       "         1.86750963e-01,  1.24393538e-01,  1.95543125e-01,\n",
       "         1.98949307e-01],\n",
       "       [ 8.70419070e-02, -2.74188876e-01, -2.32504353e-01,\n",
       "         4.99722928e-01,  5.16686916e-01, -4.44686890e-01,\n",
       "        -1.73781943e-02,  1.24870189e-01,  6.46545529e-01,\n",
       "         3.55824798e-01, -4.88414131e-02,  4.01509345e-01,\n",
       "         6.69910014e-02,  4.25495580e-02,  2.43427455e-01,\n",
       "        -1.72881007e-01,  2.30509043e-02,  5.16296864e-01,\n",
       "         1.00034368e+00,  1.72277734e-01, -3.40732545e-01,\n",
       "        -4.02685642e-01,  2.48024523e-01, -1.68465465e-01,\n",
       "         2.20976740e-01,  3.54359686e-01, -1.63067028e-01,\n",
       "        -3.95679981e-01],\n",
       "       [ 9.27245855e-01,  3.37188065e-01, -1.68749794e-01,\n",
       "        -6.59626365e-01,  2.08079606e-01,  2.69160345e-02,\n",
       "         3.73298153e-02, -1.35387063e-01,  4.09295440e-01,\n",
       "         9.19181347e-01,  7.89632618e-01,  3.10492009e-01,\n",
       "         8.39287162e-01,  9.70884442e-01,  6.92554832e-01,\n",
       "         8.97538662e-01,  6.17583513e-01,  7.34393179e-01,\n",
       "         1.26893330e+00, -3.71435612e-01, -3.16186100e-01,\n",
       "        -7.23138601e-02,  2.06635371e-01, -3.20497930e-01,\n",
       "         3.20014864e-01, -3.49874914e-01, -2.01923788e-01,\n",
       "        -2.16000453e-01],\n",
       "       [ 1.09257236e-01, -3.39328587e-01, -2.01993048e-01,\n",
       "         4.06664371e-01,  3.12580943e-01,  1.83816686e-01,\n",
       "        -4.10329476e-02, -2.38189936e-01,  5.29753804e-01,\n",
       "         9.25579309e-01,  7.82667458e-01,  1.04567778e+00,\n",
       "         1.00719416e+00,  9.85413194e-01,  1.20136011e+00,\n",
       "         1.19023979e+00,  5.47351301e-01,  9.71547484e-01,\n",
       "         7.35280156e-01, -2.33925402e-01,  8.63859355e-02,\n",
       "         1.60507485e-01, -5.85120440e-01,  2.69165993e-01,\n",
       "         4.32647675e-01,  2.86124796e-01, -7.08132163e-02,\n",
       "        -1.45192519e-01],\n",
       "       [-2.18487054e-01, -4.22313362e-01,  2.34009519e-01,\n",
       "        -2.48486564e-01,  2.92552840e-02,  6.96962476e-02,\n",
       "        -6.64718449e-02,  2.08862126e-01,  2.38859534e-01,\n",
       "         1.03110492e+00,  1.56481540e+00,  9.41304803e-01,\n",
       "         3.45201969e-01,  6.21877074e-01,  1.18539166e+00,\n",
       "         5.40193856e-01,  1.72502607e-01,  1.34191811e-01,\n",
       "         3.39544207e-01,  4.30968869e-03, -4.42218751e-01,\n",
       "         5.30780144e-02, -2.00945601e-01, -1.26659080e-01,\n",
       "        -2.81507850e-01,  1.42481521e-01, -3.66420984e-01,\n",
       "        -5.26385665e-01],\n",
       "       [ 3.32776219e-01,  1.57601506e-01,  1.59382030e-01,\n",
       "         6.77030385e-02,  4.83489871e-01, -1.78375393e-02,\n",
       "         1.87068075e-01, -2.90367994e-02, -2.99987495e-01,\n",
       "         5.37215114e-01,  6.65378451e-01,  9.37684119e-01,\n",
       "         1.02260482e+00,  7.27160871e-01, -4.35054094e-01,\n",
       "        -3.63424718e-01, -6.12555370e-02, -3.99173141e-01,\n",
       "         6.25988007e-01,  5.04672647e-01, -1.16670609e-01,\n",
       "        -3.59936357e-01, -1.78057421e-02, -2.60518670e-01,\n",
       "         4.45492715e-02,  4.86037850e-01, -1.06470056e-01,\n",
       "         3.68455678e-01],\n",
       "       [ 2.63433129e-01,  2.45381355e-01,  1.56885788e-01,\n",
       "        -1.42286390e-01,  1.02055478e+00,  1.42531082e-01,\n",
       "         9.84423906e-02, -3.58647525e-01,  3.70387733e-01,\n",
       "         7.98223987e-02,  4.22559023e-01, -2.51164645e-01,\n",
       "        -2.52361447e-02,  8.40049326e-01,  2.28071623e-02,\n",
       "         3.05523593e-02, -3.19298953e-01,  2.16619328e-01,\n",
       "        -2.85214990e-01, -2.14974716e-01, -3.77503633e-02,\n",
       "        -2.57803112e-01,  4.71627325e-01,  6.01462461e-02,\n",
       "        -4.43751365e-02,  1.00977883e-01, -4.13126647e-01,\n",
       "        -4.00574774e-01],\n",
       "       [ 5.38141966e-01, -4.89517540e-01, -4.25074935e-01,\n",
       "        -3.35793465e-01,  4.21139836e-01,  4.20705564e-02,\n",
       "        -2.77190536e-01, -6.21280372e-01, -1.75442070e-01,\n",
       "        -4.02855426e-02,  1.64836466e-01,  1.60064265e-01,\n",
       "        -1.01554766e-01,  9.81507748e-02,  2.69118369e-01,\n",
       "         1.83166116e-01,  3.50892320e-02,  5.33073008e-01,\n",
       "         5.87618910e-02,  4.11135033e-02,  2.74237037e-01,\n",
       "        -5.36715806e-01, -5.19543439e-02,  3.25806081e-01,\n",
       "        -4.91300344e-01, -8.26043010e-01, -4.24335033e-01,\n",
       "        -3.28807920e-01],\n",
       "       [-5.02942316e-02,  2.51215905e-01, -2.02650070e-01,\n",
       "        -5.47380507e-01,  6.67797402e-02, -5.77629618e-02,\n",
       "        -2.88391322e-01,  2.53545225e-01, -2.63272464e-01,\n",
       "        -1.68903738e-01,  2.03873053e-01,  6.63958549e-01,\n",
       "        -3.55971515e-01, -1.00551061e-01,  3.25246096e-01,\n",
       "         3.80266160e-01,  4.41092998e-02, -1.62664086e-01,\n",
       "         7.25777209e-01, -3.50570381e-01, -1.09093815e-01,\n",
       "        -1.97020188e-01, -2.20157236e-01, -3.58742714e-01,\n",
       "        -9.98250097e-02, -2.29738161e-01, -4.74034965e-01,\n",
       "         5.52173853e-02],\n",
       "       [-1.28146157e-01,  6.57095909e-01,  1.24790169e-01,\n",
       "        -6.21914789e-02, -4.60726023e-02, -1.17592990e-01,\n",
       "        -4.67093326e-02,  1.09532297e-01, -2.51273572e-01,\n",
       "        -4.20180917e-01,  1.50437847e-01, -1.38634697e-01,\n",
       "        -4.84591238e-02,  8.56002569e-01, -2.22279620e-03,\n",
       "        -3.32355723e-02,  3.00752401e-01, -1.43355476e-02,\n",
       "         7.63951540e-02, -3.06340784e-01, -9.24682617e-02,\n",
       "         3.82180929e-01, -1.12747096e-01, -4.86292571e-01,\n",
       "        -4.23646659e-01,  1.31992832e-01,  1.29769698e-01,\n",
       "         2.08265767e-01]], dtype=float32)"
      ]
     },
     "execution_count": 25,
     "metadata": {},
     "output_type": "execute_result"
    }
   ],
   "source": [
    "noisy_test[0].detach().numpy()"
   ]
  },
  {
   "cell_type": "code",
   "execution_count": 26,
   "id": "metallic-mayor",
   "metadata": {},
   "outputs": [
    {
     "data": {
      "text/plain": [
       "<matplotlib.colorbar.Colorbar at 0x1517fe9d0>"
      ]
     },
     "execution_count": 26,
     "metadata": {},
     "output_type": "execute_result"
    },
    {
     "data": {
      "image/png": "[encoded data removed]",
      "text/plain": [
       "<Figure size 720x360 with 4 Axes>"
      ]
     },
     "metadata": {
      "needs_background": "light"
     },
     "output_type": "display_data"
    }
   ],
   "source": [
    "plt.figure(figsize=(10,5))\n",
    "plt.subplot(1,2,1)\n",
    "plt.imshow(sig_test[0])\n",
    "plt.colorbar()\n",
    "plt.subplot(1,2,2)\n",
    "plt.imshow(noisy_test[0])\n",
    "plt.colorbar()"
   ]
  },
  {
   "cell_type": "markdown",
   "id": "entitled-convertible",
   "metadata": {},
   "source": [
    "### Create Network"
   ]
  },
  {
   "cell_type": "code",
   "execution_count": 27,
   "id": "proud-market",
   "metadata": {},
   "outputs": [],
   "source": [
    "class MyModel_Denoise(nn.Module):\n",
    "    def __init__(self):\n",
    "        super(MyModel_Denoise, self).__init__()\n",
    "        self.conv1 = nn.Conv2d(1, 10,  kernel_size=3, padding=(1,1))#, padding_mode='reflect')\n",
    "        self.conv2 = nn.Conv2d(10, 20, kernel_size=3, padding=(1,1))#, padding_mode='reflect')\n",
    "        self.conv3 = nn.Conv2d(20, 1,  kernel_size=3, padding=(1,1))#, padding_mode='reflect')\n",
    "\n",
    "    def forward(self, x):\n",
    "        x = F.relu(self.conv1(x))\n",
    "        x = F.relu(self.conv2(x))\n",
    "        x = F.relu(self.conv3(x))\n",
    "        return x"
   ]
  },
  {
   "cell_type": "markdown",
   "id": "vocational-ireland",
   "metadata": {},
   "source": [
    "### Train"
   ]
  },
  {
   "cell_type": "code",
   "execution_count": 28,
   "id": "institutional-comparison",
   "metadata": {},
   "outputs": [],
   "source": [
    "model_denoise = MyModel_Denoise()\n",
    "loss_denoise = F.mse_loss\n",
    "optimizer_denoise = torch.optim.Adam(model_denoise.parameters(), lr=0.0001)\n",
    "# optimizer_denoise = torch.optim.SGD(model_denoise.parameters(), lr=0.0001)"
   ]
  },
  {
   "cell_type": "code",
   "execution_count": 29,
   "id": "southeast-taste",
   "metadata": {},
   "outputs": [
    {
     "data": {
      "text/plain": [
       "tensor([[[[0., 0., 0., 0., 0., 0., 0., 0., 0., 0., 0., 0., 0., 0., 0., 0., 0., 0., 0., 0., 0., 0., 0.,\n",
       "           0., 0., 0., 0., 0.],\n",
       "          [0., 0., 0., 0., 0., 0., 0., 0., 0., 0., 0., 0., 0., 0., 0., 0., 0., 0., 0., 0., 0., 0., 0.,\n",
       "           0., 0., 0., 0., 0.],\n",
       "          [0., 0., 0., 0., 0., 0., 0., 0., 0., 0., 0., 0., 0., 0., 0., 0., 0., 0., 0., 0., 0., 0., 0.,\n",
       "           0., 0., 0., 0., 0.],\n",
       "          [0., 0., 0., 0., 0., 0., 0., 0., 0., 0., 0., 0., 0., 0., 0., 0., 0., 0., 0., 0., 0., 0., 0.,\n",
       "           0., 0., 0., 0., 0.],\n",
       "          [0., 0., 0., 0., 0., 0., 0., 0., 0., 0., 0., 0., 0., 0., 0., 0., 0., 0., 0., 0., 0., 0., 0.,\n",
       "           0., 0., nan, nan, nan],\n",
       "          [0., 0., 0., 0., 0., 0., 0., 0., 0., 0., 0., 0., 0., 0., 0., 0., 0., 0., 0., 0., 0., 0., 0.,\n",
       "           0., 0., nan, nan, nan],\n",
       "          [0., 0., 0., 0., 0., 0., 0., 0., 0., 0., 0., 0., 0., 0., 0., 0., 0., 0., 0., 0., 0., 0., 0.,\n",
       "           0., 0., nan, nan, nan],\n",
       "          [0., 0., 0., 0., 0., 0., 0., 0., 0., 0., 0., 0., 0., 0., 0., 0., 0., 0., 0., 0., 0., 0., 0.,\n",
       "           0., 0., nan, nan, nan],\n",
       "          [0., 0., 0., 0., 0., 0., 0., 0., 0., 0., 0., 0., 0., 0., 0., 0., 0., 0., 0., 0., 0., 0., 0.,\n",
       "           0., 0., nan, nan, nan],\n",
       "          [0., 0., 0., 0., 0., 0., 0., 0., 0., 0., 0., 0., 0., 0., 0., 0., 0., 0., 0., 0., 0., 0., 0.,\n",
       "           0., 0., 0., 0., 0.],\n",
       "          [0., 0., 0., 0., 0., 0., 0., 0., 0., 0., 0., 0., 0., 0., 0., 0., 0., 0., 0., 0., 0., 0., 0.,\n",
       "           0., 0., 0., 0., 0.],\n",
       "          [0., 0., 0., 0., 0., 0., 0., 0., 0., 0., 0., 0., 0., 0., 0., 0., 0., 0., 0., 0., 0., 0., 0.,\n",
       "           0., 0., 0., 0., 0.],\n",
       "          [0., 0., 0., 0., 0., 0., 0., 0., 0., 0., 0., 0., 0., 0., 0., 0., 0., 0., 0., 0., 0., 0., 0.,\n",
       "           0., 0., 0., 0., 0.],\n",
       "          [0., 0., 0., 0., 0., 0., 0., 0., 0., 0., 0., 0., 0., 0., 0., 0., 0., 0., 0., 0., 0., 0., 0.,\n",
       "           0., 0., 0., 0., 0.],\n",
       "          [0., 0., 0., 0., 0., 0., 0., 0., 0., 0., 0., 0., 0., 0., 0., 0., 0., 0., 0., 0., 0., 0., 0.,\n",
       "           0., 0., 0., 0., 0.],\n",
       "          [0., 0., 0., 0., 0., 0., 0., 0., 0., 0., 0., 0., 0., 0., 0., 0., 0., 0., 0., 0., 0., 0., 0.,\n",
       "           0., 0., 0., 0., 0.],\n",
       "          [0., 0., 0., 0., 0., 0., nan, nan, nan, nan, nan, 0., 0., 0., 0., 0., 0., 0., 0., 0., 0., 0., 0.,\n",
       "           0., 0., 0., 0., 0.],\n",
       "          [0., 0., 0., 0., 0., 0., nan, nan, nan, nan, nan, 0., 0., 0., 0., 0., 0., 0., 0., 0., 0., 0., 0.,\n",
       "           0., 0., 0., 0., 0.],\n",
       "          [0., 0., 0., 0., 0., 0., nan, nan, nan, nan, nan, 0., 0., 0., 0., 0., 0., 0., 0., 0., 0., 0., 0.,\n",
       "           0., 0., 0., 0., 0.],\n",
       "          [0., 0., 0., 0., 0., 0., nan, nan, nan, nan, nan, 0., 0., 0., 0., 0., 0., 0., 0., 0., 0., 0., 0.,\n",
       "           0., 0., 0., 0., 0.],\n",
       "          [0., 0., 0., 0., 0., 0., nan, nan, nan, nan, nan, 0., 0., 0., 0., 0., 0., 0., 0., 0., 0., 0., 0.,\n",
       "           0., 0., 0., 0., 0.],\n",
       "          [0., 0., 0., 0., 0., 0., 0., 0., 0., 0., 0., 0., 0., 0., 0., 0., 0., 0., 0., 0., 0., 0., 0.,\n",
       "           0., 0., 0., 0., 0.],\n",
       "          [0., 0., 0., 0., 0., 0., 0., 0., 0., 0., 0., 0., 0., 0., 0., 0., 0., 0., 0., 0., 0., 0., 0.,\n",
       "           0., 0., 0., 0., 0.],\n",
       "          [0., 0., 0., 0., 0., 0., 0., 0., 0., 0., 0., 0., 0., 0., 0., 0., 0., 0., 0., 0., 0., 0., 0.,\n",
       "           0., 0., 0., 0., 0.],\n",
       "          [0., 0., 0., 0., 0., 0., 0., 0., 0., 0., 0., 0., 0., 0., 0., 0., 0., 0., 0., 0., 0., 0., 0.,\n",
       "           0., 0., 0., 0., 0.],\n",
       "          [0., 0., 0., 0., 0., 0., 0., 0., 0., 0., 0., 0., 0., 0., 0., 0., 0., 0., 0., 0., 0., 0., 0.,\n",
       "           0., 0., 0., 0., 0.],\n",
       "          [0., 0., 0., 0., 0., 0., 0., 0., 0., 0., 0., 0., 0., 0., 0., 0., 0., 0., 0., 0., 0., 0., 0.,\n",
       "           0., 0., 0., 0., 0.],\n",
       "          [0., 0., 0., 0., 0., 0., 0., 0., 0., 0., 0., 0., 0., 0., 0., 0., 0., 0., 0., 0., 0., 0., 0.,\n",
       "           0., 0., 0., 0., 0.]]]], grad_fn=<ReluBackward0>)"
      ]
     },
     "execution_count": 29,
     "metadata": {},
     "output_type": "execute_result"
    }
   ],
   "source": [
    "model_denoise.eval()\n",
    "model_denoise(noisy_test[0:1].unsqueeze(0))"
   ]
  },
  {
   "cell_type": "code",
   "execution_count": 30,
   "id": "impressed-tampa",
   "metadata": {},
   "outputs": [
    {
     "data": {
      "application/vnd.jupyter.widget-view+json": {
       "model_id": "9dc97e471bb7403791ef5682e755ec7a",
       "version_major": 2,
       "version_minor": 0
      },
      "text/plain": [
       "  0%|          | 0/3 [00:00<?, ?it/s]"
      ]
     },
     "metadata": {},
     "output_type": "display_data"
    },
    {
     "name": "stdout",
     "output_type": "stream",
     "text": [
      "torch.Size([1, 1, 28, 28])\n",
      "torch.Size([1, 1, 28, 28])\n",
      "torch.Size([1, 1, 28, 28])\n",
      "tensor(0.1165, grad_fn=<MseLossBackward>)\n",
      "Epoch:   1; Train-Loss: nan\n",
      "Epoch:   2; Train-Loss: nan\n",
      "Epoch:   3; Train-Loss: nan\n"
     ]
    }
   ],
   "source": [
    "model_denoise.train()\n",
    "train(model_denoise, noisy_train[:1000].unsqueeze(1), sig_train[:1000].unsqueeze(1), \n",
    "      loss_denoise, optimizer_denoise, 3)"
   ]
  },
  {
   "cell_type": "markdown",
   "id": "civilian-coupon",
   "metadata": {},
   "source": [
    "### Evaluate"
   ]
  },
  {
   "cell_type": "code",
   "execution_count": 31,
   "id": "promotional-intermediate",
   "metadata": {},
   "outputs": [],
   "source": [
    "model_denoise.eval()\n",
    "denoised = model_denoise(noisy_test.unsqueeze(1).float())"
   ]
  },
  {
   "cell_type": "code",
   "execution_count": 32,
   "id": "featured-frank",
   "metadata": {},
   "outputs": [
    {
     "name": "stderr",
     "output_type": "stream",
     "text": [
      "/Users/jug/miniforge3/envs/dlpt/lib/python3.9/site-packages/matplotlib/image.py:446: UserWarning: Warning: converting a masked element to nan.\n",
      "  dv = np.float64(self.norm.vmax) - np.float64(self.norm.vmin)\n",
      "/Users/jug/miniforge3/envs/dlpt/lib/python3.9/site-packages/matplotlib/image.py:453: UserWarning: Warning: converting a masked element to nan.\n",
      "  a_min = np.float64(newmin)\n",
      "/Users/jug/miniforge3/envs/dlpt/lib/python3.9/site-packages/matplotlib/image.py:458: UserWarning: Warning: converting a masked element to nan.\n",
      "  a_max = np.float64(newmax)\n"
     ]
    },
    {
     "data": {
      "image/png": "[encoded data removed]",
      "text/plain": [
       "<Figure size 1440x576 with 10 Axes>"
      ]
     },
     "metadata": {
      "needs_background": "light"
     },
     "output_type": "display_data"
    }
   ],
   "source": [
    "plt.figure(figsize=(20,8))\n",
    "for i in range(5):\n",
    "    plt.subplot(2,5,1+i)\n",
    "    plt.imshow(noisy_test[i])\n",
    "for i in range(5):\n",
    "    plt.subplot(2,5,6+i)\n",
    "    plt.imshow(denoised.detach().numpy()[i][0])"
   ]
  },
  {
   "cell_type": "code",
   "execution_count": null,
   "id": "anticipated-expansion",
   "metadata": {},
   "outputs": [],
   "source": []
  }
 ],
 "metadata": {
  "kernelspec": {
   "display_name": "Python [conda env:dlpt]",
   "language": "python",
   "name": "conda-env-dlpt-py"
  },
  "language_info": {
   "codemirror_mode": {
    "name": "ipython",
    "version": 3
   },
   "file_extension": ".py",
   "mimetype": "text/x-python",
   "name": "python",
   "nbconvert_exporter": "python",
   "pygments_lexer": "ipython3",
   "version": "3.9.2"
  }
 },
 "nbformat": 4,
 "nbformat_minor": 5
}
