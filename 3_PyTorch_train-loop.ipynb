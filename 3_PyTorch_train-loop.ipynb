{
 "cells": [
  {
   "cell_type": "markdown",
   "id": "under-distinction",
   "metadata": {},
   "source": [
    "# Train-Loop\n",
    "\n",
    "The goal of this exercise is to write a reusable trainer. This can either be a class or just a function. \n",
    "\n",
    "Some thoughts:\n",
    "* Architecture independent\n",
    "* Use `DataLoader` \n",
    "* Train- and validation-error\n",
    "* Independent optimizer\n",
    "* Independent loss-function\n",
    "* Custom metrics\n",
    "* GPU enabled\n",
    "* Save best model\n",
    "* Learning rate scheduling\n",
    "\n",
    "The goal is to train all models from the last exercise with this trainer and a batch-size > 1."
   ]
  },
  {
   "cell_type": "code",
   "execution_count": null,
   "id": "parliamentary-wright",
   "metadata": {},
   "outputs": [],
   "source": []
  }
 ],
 "metadata": {
  "kernelspec": {
   "display_name": "Python 3",
   "language": "python",
   "name": "python3"
  },
  "language_info": {
   "codemirror_mode": {
    "name": "ipython",
    "version": 3
   },
   "file_extension": ".py",
   "mimetype": "text/x-python",
   "name": "python",
   "nbconvert_exporter": "python",
   "pygments_lexer": "ipython3",
   "version": "3.7.10"
  }
 },
 "nbformat": 4,
 "nbformat_minor": 5
}
