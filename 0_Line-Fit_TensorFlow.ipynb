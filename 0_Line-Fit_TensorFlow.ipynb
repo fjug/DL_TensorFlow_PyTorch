{
 "cells": [
  {
   "cell_type": "code",
   "execution_count": 1,
   "id": "dated-navigator",
   "metadata": {},
   "outputs": [],
   "source": [
    "import tensorflow as tf\n",
    "\n",
    "import numpy as np\n",
    "\n",
    "import matplotlib.pyplot as plt\n",
    "\n",
    "from tqdm.notebook import tqdm\n",
    "\n",
    "import os"
   ]
  },
  {
   "cell_type": "code",
   "execution_count": 2,
   "id": "compatible-holly",
   "metadata": {},
   "outputs": [],
   "source": [
    "# Disable CUDA, not necessary for this example\n",
    "os.environ['CUDA_VISIBLE_DEVICES'] = '-1'"
   ]
  },
  {
   "cell_type": "code",
   "execution_count": 3,
   "id": "essential-palmer",
   "metadata": {},
   "outputs": [
    {
     "name": "stdout",
     "output_type": "stream",
     "text": [
      "WARNING:tensorflow:From <ipython-input-3-82943b6b7aac>:2: is_gpu_available (from tensorflow.python.framework.test_util) is deprecated and will be removed in a future version.\n",
      "Instructions for updating:\n",
      "Use `tf.config.list_physical_devices('GPU')` instead.\n"
     ]
    },
    {
     "data": {
      "text/plain": [
       "False"
      ]
     },
     "execution_count": 3,
     "metadata": {},
     "output_type": "execute_result"
    }
   ],
   "source": [
    "# CUDA is not necessary for the examples in this notebook.\n",
    "tf.test.is_gpu_available()"
   ]
  },
  {
   "cell_type": "markdown",
   "id": "smaller-billion",
   "metadata": {},
   "source": [
    "## Create a Custom TensorFlow Model\n",
    "\n",
    "* Inherit from `tf.keras.Model`.\n",
    "* Don't forget `super(ModelName, self).__init__()`.\n",
    "* Define all layers in `__init__()`.\n",
    "* Construct forward pass in `call(self, x)`. "
   ]
  },
  {
   "cell_type": "code",
   "execution_count": 4,
   "id": "serious-looking",
   "metadata": {},
   "outputs": [],
   "source": [
    "class MyModel(tf.keras.Model):\n",
    "    def __init__(self):\n",
    "        super(MyModel, self).__init__()\n",
    "        self.neuron = tf.keras.layers.Dense(1)\n",
    "\n",
    "    def call(self, x):\n",
    "        return self.neuron(x)"
   ]
  },
  {
   "cell_type": "markdown",
   "id": "demonstrated-fluid",
   "metadata": {},
   "source": [
    "`MyModel` is not very interesting, it is just `y = mx + b`. If you want to build a real neural network you would require more [layers](https://www.tensorflow.org/api_docs/python/tf/keras/layers) and some [non-linearities](https://www.tensorflow.org/api_docs/python/tf/keras/activations) (e.g. ReLU). \n",
    "\n",
    "Usually each layer is put through a non-linearity:\n",
    "\n",
    "```\n",
    "def call(self, x):\n",
    "    return tf.nn.relu(self.neuron(x))\n",
    "```\n",
    "\n",
    "You can reuse `x` during the forward pass:\n",
    "```\n",
    "def call(self, x):\n",
    "    x = tf.nn.relu(self.neuron(x))\n",
    "    x = tf.nn.relu(self.another_neuron(x))\n",
    "    return x\n",
    "```"
   ]
  },
  {
   "cell_type": "markdown",
   "id": "legal-favor",
   "metadata": {},
   "source": [
    "## Does MyModel work?\n",
    "\n",
    "The first step after defining is to test `forward`. We define a single instance `x`, which can be anything as long as the dimensions are correct. In case of `MyModel` we want to have input dimensions `N x 1` and obtain outputs of same dimensionality."
   ]
  },
  {
   "cell_type": "code",
   "execution_count": 5,
   "id": "judicial-witness",
   "metadata": {},
   "outputs": [
    {
     "name": "stdout",
     "output_type": "stream",
     "text": [
      "<class 'numpy.ndarray'>\n",
      "<class 'tensorflow.python.framework.ops.EagerTensor'>\n"
     ]
    }
   ],
   "source": [
    "x = np.array([[1,2,3,4]])\n",
    "print(type(x))\n",
    "\n",
    "# convert from numpy to torch\n",
    "x = tf.convert_to_tensor(x)\n",
    "print(type(x))"
   ]
  },
  {
   "cell_type": "code",
   "execution_count": 6,
   "id": "talented-accuracy",
   "metadata": {},
   "outputs": [],
   "source": [
    "model = MyModel()"
   ]
  },
  {
   "cell_type": "code",
   "execution_count": 7,
   "id": "latin-pencil",
   "metadata": {},
   "outputs": [],
   "source": [
    "model.build([1,1])"
   ]
  },
  {
   "cell_type": "code",
   "execution_count": 8,
   "id": "saved-change",
   "metadata": {},
   "outputs": [
    {
     "name": "stdout",
     "output_type": "stream",
     "text": [
      "Model: \"my_model\"\n",
      "_________________________________________________________________\n",
      "Layer (type)                 Output Shape              Param #   \n",
      "=================================================================\n",
      "dense (Dense)                multiple                  2         \n",
      "=================================================================\n",
      "Total params: 2\n",
      "Trainable params: 2\n",
      "Non-trainable params: 0\n",
      "_________________________________________________________________\n"
     ]
    }
   ],
   "source": [
    "model.summary()"
   ]
  },
  {
   "cell_type": "code",
   "execution_count": 9,
   "id": "boolean-cleanup",
   "metadata": {},
   "outputs": [
    {
     "ename": "ValueError",
     "evalue": "Input 0 of layer dense is incompatible with the layer: expected axis -1 of input shape to have value 1 but received input with shape (1, 4)",
     "output_type": "error",
     "traceback": [
      "\u001b[0;31m---------------------------------------------------------------------------\u001b[0m",
      "\u001b[0;31mValueError\u001b[0m                                Traceback (most recent call last)",
      "\u001b[0;32m<ipython-input-9-73a4768b8366>\u001b[0m in \u001b[0;36m<module>\u001b[0;34m\u001b[0m\n\u001b[0;32m----> 1\u001b[0;31m \u001b[0mmodel\u001b[0m\u001b[0;34m.\u001b[0m\u001b[0mcall\u001b[0m\u001b[0;34m(\u001b[0m\u001b[0mx\u001b[0m\u001b[0;34m)\u001b[0m\u001b[0;34m\u001b[0m\u001b[0;34m\u001b[0m\u001b[0m\n\u001b[0m",
      "\u001b[0;32m<ipython-input-4-063d7a2d0ab8>\u001b[0m in \u001b[0;36mcall\u001b[0;34m(self, x)\u001b[0m\n\u001b[1;32m      5\u001b[0m \u001b[0;34m\u001b[0m\u001b[0m\n\u001b[1;32m      6\u001b[0m     \u001b[0;32mdef\u001b[0m \u001b[0mcall\u001b[0m\u001b[0;34m(\u001b[0m\u001b[0mself\u001b[0m\u001b[0;34m,\u001b[0m \u001b[0mx\u001b[0m\u001b[0;34m)\u001b[0m\u001b[0;34m:\u001b[0m\u001b[0;34m\u001b[0m\u001b[0;34m\u001b[0m\u001b[0m\n\u001b[0;32m----> 7\u001b[0;31m         \u001b[0;32mreturn\u001b[0m \u001b[0mself\u001b[0m\u001b[0;34m.\u001b[0m\u001b[0mneuron\u001b[0m\u001b[0;34m(\u001b[0m\u001b[0mx\u001b[0m\u001b[0;34m)\u001b[0m\u001b[0;34m\u001b[0m\u001b[0;34m\u001b[0m\u001b[0m\n\u001b[0m",
      "\u001b[0;32m~/Applications/miniconda3/envs/dl_tf/lib/python3.7/site-packages/tensorflow/python/keras/engine/base_layer.py\u001b[0m in \u001b[0;36m__call__\u001b[0;34m(self, *args, **kwargs)\u001b[0m\n\u001b[1;32m    996\u001b[0m         \u001b[0minputs\u001b[0m \u001b[0;34m=\u001b[0m \u001b[0mself\u001b[0m\u001b[0;34m.\u001b[0m\u001b[0m_maybe_cast_inputs\u001b[0m\u001b[0;34m(\u001b[0m\u001b[0minputs\u001b[0m\u001b[0;34m,\u001b[0m \u001b[0minput_list\u001b[0m\u001b[0;34m)\u001b[0m\u001b[0;34m\u001b[0m\u001b[0;34m\u001b[0m\u001b[0m\n\u001b[1;32m    997\u001b[0m \u001b[0;34m\u001b[0m\u001b[0m\n\u001b[0;32m--> 998\u001b[0;31m       \u001b[0minput_spec\u001b[0m\u001b[0;34m.\u001b[0m\u001b[0massert_input_compatibility\u001b[0m\u001b[0;34m(\u001b[0m\u001b[0mself\u001b[0m\u001b[0;34m.\u001b[0m\u001b[0minput_spec\u001b[0m\u001b[0;34m,\u001b[0m \u001b[0minputs\u001b[0m\u001b[0;34m,\u001b[0m \u001b[0mself\u001b[0m\u001b[0;34m.\u001b[0m\u001b[0mname\u001b[0m\u001b[0;34m)\u001b[0m\u001b[0;34m\u001b[0m\u001b[0;34m\u001b[0m\u001b[0m\n\u001b[0m\u001b[1;32m    999\u001b[0m       \u001b[0;32mif\u001b[0m \u001b[0meager\u001b[0m\u001b[0;34m:\u001b[0m\u001b[0;34m\u001b[0m\u001b[0;34m\u001b[0m\u001b[0m\n\u001b[1;32m   1000\u001b[0m         \u001b[0mcall_fn\u001b[0m \u001b[0;34m=\u001b[0m \u001b[0mself\u001b[0m\u001b[0;34m.\u001b[0m\u001b[0mcall\u001b[0m\u001b[0;34m\u001b[0m\u001b[0;34m\u001b[0m\u001b[0m\n",
      "\u001b[0;32m~/Applications/miniconda3/envs/dl_tf/lib/python3.7/site-packages/tensorflow/python/keras/engine/input_spec.py\u001b[0m in \u001b[0;36massert_input_compatibility\u001b[0;34m(input_spec, inputs, layer_name)\u001b[0m\n\u001b[1;32m    257\u001b[0m               \u001b[0;34m' incompatible with the layer: expected axis '\u001b[0m \u001b[0;34m+\u001b[0m \u001b[0mstr\u001b[0m\u001b[0;34m(\u001b[0m\u001b[0maxis\u001b[0m\u001b[0;34m)\u001b[0m \u001b[0;34m+\u001b[0m\u001b[0;34m\u001b[0m\u001b[0;34m\u001b[0m\u001b[0m\n\u001b[1;32m    258\u001b[0m               \u001b[0;34m' of input shape to have value '\u001b[0m \u001b[0;34m+\u001b[0m \u001b[0mstr\u001b[0m\u001b[0;34m(\u001b[0m\u001b[0mvalue\u001b[0m\u001b[0;34m)\u001b[0m \u001b[0;34m+\u001b[0m\u001b[0;34m\u001b[0m\u001b[0;34m\u001b[0m\u001b[0m\n\u001b[0;32m--> 259\u001b[0;31m               ' but received input with shape ' + display_shape(x.shape))\n\u001b[0m\u001b[1;32m    260\u001b[0m     \u001b[0;31m# Check shape.\u001b[0m\u001b[0;34m\u001b[0m\u001b[0;34m\u001b[0m\u001b[0;34m\u001b[0m\u001b[0m\n\u001b[1;32m    261\u001b[0m     \u001b[0;32mif\u001b[0m \u001b[0mspec\u001b[0m\u001b[0;34m.\u001b[0m\u001b[0mshape\u001b[0m \u001b[0;32mis\u001b[0m \u001b[0;32mnot\u001b[0m \u001b[0;32mNone\u001b[0m \u001b[0;32mand\u001b[0m \u001b[0mshape\u001b[0m\u001b[0;34m.\u001b[0m\u001b[0mrank\u001b[0m \u001b[0;32mis\u001b[0m \u001b[0;32mnot\u001b[0m \u001b[0;32mNone\u001b[0m\u001b[0;34m:\u001b[0m\u001b[0;34m\u001b[0m\u001b[0;34m\u001b[0m\u001b[0m\n",
      "\u001b[0;31mValueError\u001b[0m: Input 0 of layer dense is incompatible with the layer: expected axis -1 of input shape to have value 1 but received input with shape (1, 4)"
     ]
    }
   ],
   "source": [
    "model.call(x)"
   ]
  },
  {
   "cell_type": "markdown",
   "id": "rental-palestine",
   "metadata": {},
   "source": [
    "__Note:__ This did not work out. Something with the tensor-shapes is wrong. "
   ]
  },
  {
   "cell_type": "code",
   "execution_count": 10,
   "id": "numeric-inclusion",
   "metadata": {},
   "outputs": [
    {
     "data": {
      "text/plain": [
       "TensorShape([1, 4])"
      ]
     },
     "execution_count": 10,
     "metadata": {},
     "output_type": "execute_result"
    }
   ],
   "source": [
    "x.shape"
   ]
  },
  {
   "cell_type": "markdown",
   "id": "above-archive",
   "metadata": {},
   "source": [
    "Our input x has dimensionality `1 x N` instead of `N x 1`. "
   ]
  },
  {
   "cell_type": "code",
   "execution_count": 11,
   "id": "special-corps",
   "metadata": {},
   "outputs": [
    {
     "data": {
      "text/plain": [
       "TensorShape([4, 1])"
      ]
     },
     "execution_count": 11,
     "metadata": {},
     "output_type": "execute_result"
    }
   ],
   "source": [
    "# Now we define our x the correct way:\n",
    "x = np.array([[1], [2], [3], [4]], dtype=np.float32)\n",
    "x = tf.convert_to_tensor(x)\n",
    "x.shape"
   ]
  },
  {
   "cell_type": "code",
   "execution_count": 12,
   "id": "basic-trader",
   "metadata": {},
   "outputs": [],
   "source": [
    "y = model(x)"
   ]
  },
  {
   "cell_type": "code",
   "execution_count": 13,
   "id": "burning-mineral",
   "metadata": {},
   "outputs": [
    {
     "data": {
      "text/plain": [
       "<tf.Tensor: shape=(4, 1), dtype=float32, numpy=\n",
       "array([[0.9612981],\n",
       "       [1.9225962],\n",
       "       [2.8838944],\n",
       "       [3.8451924]], dtype=float32)>"
      ]
     },
     "execution_count": 13,
     "metadata": {},
     "output_type": "execute_result"
    }
   ],
   "source": [
    "y"
   ]
  },
  {
   "cell_type": "code",
   "execution_count": 14,
   "id": "geological-nature",
   "metadata": {},
   "outputs": [
    {
     "data": {
      "text/plain": [
       "[<matplotlib.lines.Line2D at 0x7f008acc4c50>]"
      ]
     },
     "execution_count": 14,
     "metadata": {},
     "output_type": "execute_result"
    },
    {
     "data": {
      "image/png": "[encoded data removed]",
      "text/plain": [
       "<Figure size 432x288 with 1 Axes>"
      ]
     },
     "metadata": {
      "needs_background": "light"
     },
     "output_type": "display_data"
    }
   ],
   "source": [
    "plt.plot(y)"
   ]
  },
  {
   "cell_type": "markdown",
   "id": "authentic-organic",
   "metadata": {},
   "source": [
    "## Train MyModel\n",
    "\n",
    "Next we want to generate some GT line-data and simulate noisy measurements from it. With these measurments we train our model and fit a line."
   ]
  },
  {
   "cell_type": "code",
   "execution_count": 15,
   "id": "hairy-flour",
   "metadata": {},
   "outputs": [],
   "source": [
    "m = 1.2\n",
    "b = -4."
   ]
  },
  {
   "cell_type": "code",
   "execution_count": 16,
   "id": "indian-traveler",
   "metadata": {},
   "outputs": [],
   "source": [
    "# Train-Data\n",
    "x = np.linspace(-1,1,100, dtype=np.float32)\n",
    "gt = m*x + b\n",
    "y = np.random.normal(gt, 1.).astype(np.float32)"
   ]
  },
  {
   "cell_type": "code",
   "execution_count": 17,
   "id": "strategic-scottish",
   "metadata": {},
   "outputs": [
    {
     "name": "stdout",
     "output_type": "stream",
     "text": [
      "(100,) (100,)\n"
     ]
    }
   ],
   "source": [
    "# Note that the shapes are not correct yet.\n",
    "print(x.shape, y.shape)"
   ]
  },
  {
   "cell_type": "code",
   "execution_count": 18,
   "id": "extraordinary-marriage",
   "metadata": {},
   "outputs": [
    {
     "name": "stdout",
     "output_type": "stream",
     "text": [
      "(100, 1) (100, 1)\n"
     ]
    }
   ],
   "source": [
    "x = x[:, np.newaxis]\n",
    "y = y[:, np.newaxis]\n",
    "print(x.shape, y.shape)"
   ]
  },
  {
   "cell_type": "code",
   "execution_count": 19,
   "id": "guilty-cookbook",
   "metadata": {},
   "outputs": [],
   "source": [
    "x_tf = tf.convert_to_tensor(x)\n",
    "y_tf = tf.convert_to_tensor(y)"
   ]
  },
  {
   "cell_type": "code",
   "execution_count": 20,
   "id": "cognitive-appeal",
   "metadata": {},
   "outputs": [],
   "source": [
    "# Test-Data\n",
    "test_x = tf.convert_to_tensor(np.array([[-2], [2]], dtype=np.float32))"
   ]
  },
  {
   "cell_type": "code",
   "execution_count": 21,
   "id": "helpful-explanation",
   "metadata": {},
   "outputs": [],
   "source": [
    "pred_untrained = model(test_x)"
   ]
  },
  {
   "cell_type": "code",
   "execution_count": 22,
   "id": "public-bradford",
   "metadata": {},
   "outputs": [
    {
     "data": {
      "image/png": "[encoded data removed]",
      "text/plain": [
       "<Figure size 720x360 with 1 Axes>"
      ]
     },
     "metadata": {
      "needs_background": "light"
     },
     "output_type": "display_data"
    }
   ],
   "source": [
    "plt.figure(figsize=(10,5))\n",
    "plt.plot(x, gt, '.', label='GT')\n",
    "plt.plot(x, y, '.', label='Observations')\n",
    "plt.plot(test_x, pred_untrained, 'o--', label='Untrained')\n",
    "plt.legend();"
   ]
  },
  {
   "cell_type": "markdown",
   "id": "extensive-superior",
   "metadata": {},
   "source": [
    "### Loss-Function"
   ]
  },
  {
   "cell_type": "code",
   "execution_count": 23,
   "id": "vital-drill",
   "metadata": {},
   "outputs": [],
   "source": [
    "loss_function = tf.keras.losses.MSE"
   ]
  },
  {
   "cell_type": "markdown",
   "id": "fifty-insight",
   "metadata": {},
   "source": [
    "### Optimizer"
   ]
  },
  {
   "cell_type": "code",
   "execution_count": 24,
   "id": "independent-breach",
   "metadata": {},
   "outputs": [],
   "source": [
    "optimizer = tf.keras.optimizers.Adam(learning_rate=0.0001)"
   ]
  },
  {
   "cell_type": "markdown",
   "id": "heated-matter",
   "metadata": {},
   "source": [
    "### Train-Function\n",
    "\n",
    "This is a very simple train function i.e. without dataloaders and batching. We just iterate over all samples one-by-one (batch-size = 1)."
   ]
  },
  {
   "cell_type": "code",
   "execution_count": 25,
   "id": "loaded-offense",
   "metadata": {},
   "outputs": [
    {
     "name": "stdout",
     "output_type": "stream",
     "text": [
      "(1,)\n"
     ]
    }
   ],
   "source": [
    "# Since we loop over x, the dimension gets reduced by one:\n",
    "for x_ in x_tf:\n",
    "    print(x_.shape)\n",
    "    break"
   ]
  },
  {
   "cell_type": "code",
   "execution_count": 26,
   "id": "searching-feature",
   "metadata": {},
   "outputs": [
    {
     "name": "stdout",
     "output_type": "stream",
     "text": [
      "(1, 1)\n"
     ]
    }
   ],
   "source": [
    "# Hence we have to use unsqueeze to add a singleton dimension:\n",
    "for x_ in x_tf:\n",
    "    x_ = tf.expand_dims(x_, 0)\n",
    "    print(x_.shape)\n",
    "    break"
   ]
  },
  {
   "cell_type": "code",
   "execution_count": 27,
   "id": "senior-success",
   "metadata": {},
   "outputs": [],
   "source": [
    "def train(model, x, y, loss_function, optimizer, num_epochs):\n",
    "    \n",
    "    running_loss = 0.0\n",
    "    for e in tqdm(range(num_epochs)):\n",
    "        for x_, y_ in zip(x, y):\n",
    "            x_ = tf.expand_dims(x_, 0) \n",
    "            y_ = tf.expand_dims(y_, 0)\n",
    "            \n",
    "            with tf.GradientTape() as tape:\n",
    "                y_hat = model(x_, training=True)\n",
    "                loss = loss_function(y_, y_hat)\n",
    "            grads = tape.gradient(loss, model.trainable_weights)\n",
    "            optimizer.apply_gradients(zip(grads, model.trainable_weights))\n",
    "            \n",
    "            running_loss += float(loss) # cast to float\n",
    "            \n",
    "        running_loss /= len(x)\n",
    "        if e % 100 == 0:\n",
    "            running_loss /= 100.\n",
    "            print('Epoch: {:4}; Train-Loss: {}'.format(e, np.round(running_loss, 3)))\n",
    "            running_loss = 0.0"
   ]
  },
  {
   "cell_type": "code",
   "execution_count": 28,
   "id": "insured-agent",
   "metadata": {
    "scrolled": false
   },
   "outputs": [
    {
     "data": {
      "application/vnd.jupyter.widget-view+json": {
       "model_id": "b75e042c5c374ae8b8378b1ce900fd56",
       "version_major": 2,
       "version_minor": 0
      },
      "text/plain": [
       "  0%|          | 0/1000 [00:00<?, ?it/s]"
      ]
     },
     "metadata": {},
     "output_type": "display_data"
    },
    {
     "name": "stdout",
     "output_type": "stream",
     "text": [
      "Epoch:    0; Train-Loss: 0.164\n",
      "Epoch:  100; Train-Loss: 0.099\n",
      "Epoch:  200; Train-Loss: 0.051\n",
      "Epoch:  300; Train-Loss: 0.023\n",
      "Epoch:  400; Train-Loss: 0.011\n",
      "Epoch:  500; Train-Loss: 0.008\n",
      "Epoch:  600; Train-Loss: 0.008\n",
      "Epoch:  700; Train-Loss: 0.008\n",
      "Epoch:  800; Train-Loss: 0.008\n",
      "Epoch:  900; Train-Loss: 0.008\n"
     ]
    }
   ],
   "source": [
    "train(model, x_tf, y_tf, loss_function, optimizer, 1000)"
   ]
  },
  {
   "cell_type": "code",
   "execution_count": 29,
   "id": "sharing-variation",
   "metadata": {},
   "outputs": [],
   "source": [
    "pred = model.predict(test_x)"
   ]
  },
  {
   "cell_type": "code",
   "execution_count": 30,
   "id": "hired-mainland",
   "metadata": {},
   "outputs": [
    {
     "data": {
      "image/png": "[encoded data removed]",
      "text/plain": [
       "<Figure size 720x360 with 1 Axes>"
      ]
     },
     "metadata": {
      "needs_background": "light"
     },
     "output_type": "display_data"
    }
   ],
   "source": [
    "plt.figure(figsize=(10,5))\n",
    "plt.plot(x, gt, '.', label='Ground Truth')\n",
    "plt.plot(x, y, '.', label='Observations')\n",
    "plt.plot(test_x, pred, 'o--', label='Trained Prediction')\n",
    "plt.legend();"
   ]
  },
  {
   "cell_type": "code",
   "execution_count": 31,
   "id": "artificial-volume",
   "metadata": {},
   "outputs": [
    {
     "name": "stdout",
     "output_type": "stream",
     "text": [
      "GT line:        y = 1.20*x + -4.00\n",
      "Predicted line: y = 0.94*x + -3.96\n"
     ]
    }
   ],
   "source": [
    "print('GT line:        y = {:2.2f}*x + {:2.2f}'.format(m, b))\n",
    "print('Predicted line: y = {:2.2f}*x + {:2.2f}'.format(float(model.neuron.weights[0]), float(model.neuron.bias)))"
   ]
  },
  {
   "cell_type": "markdown",
   "id": "controlled-motor",
   "metadata": {},
   "source": [
    "### Speeding-up Training\n",
    "\n",
    "Default mode of TF2 is eager execution. This is great for debugging, but very slow. We can speed-up training by compiling the static computation-graph. Just use the `@tf.function` decorator.\n",
    "\n",
    "More information can be found [here](https://www.tensorflow.org/guide/keras/writing_a_training_loop_from_scratch#speeding-up_your_training_step_with_tffunction)."
   ]
  },
  {
   "cell_type": "code",
   "execution_count": 32,
   "id": "economic-camel",
   "metadata": {},
   "outputs": [],
   "source": [
    "def train_fast(model, x, y, loss_function, optimizer, num_epochs):\n",
    "    @tf.function\n",
    "    def train_step(x_, y_):\n",
    "        with tf.GradientTape() as tape:\n",
    "            y_hat = model(x_, training=True)\n",
    "            loss = loss_function(y_, y_hat)\n",
    "        grads = tape.gradient(loss, model.trainable_weights)\n",
    "        optimizer.apply_gradients(zip(grads, model.trainable_weights))\n",
    "        return loss\n",
    "    \n",
    "    running_loss = 0.0\n",
    "    for e in tqdm(range(num_epochs)):\n",
    "        for x_, y_ in zip(x, y):\n",
    "            x_ = tf.expand_dims(x_, 0) \n",
    "            y_ = tf.expand_dims(y_, 0)\n",
    "            \n",
    "            loss = train_step(x_, y_)\n",
    "            \n",
    "            running_loss += float(loss) # cast to float\n",
    "            \n",
    "        running_loss /= len(x)\n",
    "        if e % 100 == 0:\n",
    "            running_loss /= 100.\n",
    "            print('Epoch: {:4}; Train-Loss: {}'.format(e, np.round(running_loss, 3)))\n",
    "            running_loss = 0.0"
   ]
  },
  {
   "cell_type": "code",
   "execution_count": 33,
   "id": "clear-staff",
   "metadata": {},
   "outputs": [],
   "source": [
    "# A new model for new training.\n",
    "model = MyModel()"
   ]
  },
  {
   "cell_type": "code",
   "execution_count": 34,
   "id": "spare-mounting",
   "metadata": {},
   "outputs": [],
   "source": [
    "model.build([1,1])"
   ]
  },
  {
   "cell_type": "code",
   "execution_count": 35,
   "id": "musical-combination",
   "metadata": {},
   "outputs": [
    {
     "data": {
      "application/vnd.jupyter.widget-view+json": {
       "model_id": "8ca3edfacc0e4616b9dedf8874cfd8e4",
       "version_major": 2,
       "version_minor": 0
      },
      "text/plain": [
       "  0%|          | 0/1000 [00:00<?, ?it/s]"
      ]
     },
     "metadata": {},
     "output_type": "display_data"
    },
    {
     "name": "stdout",
     "output_type": "stream",
     "text": [
      "Epoch:    0; Train-Loss: 0.172\n",
      "Epoch:  100; Train-Loss: 0.101\n",
      "Epoch:  200; Train-Loss: 0.055\n",
      "Epoch:  300; Train-Loss: 0.026\n",
      "Epoch:  400; Train-Loss: 0.012\n",
      "Epoch:  500; Train-Loss: 0.008\n",
      "Epoch:  600; Train-Loss: 0.008\n",
      "Epoch:  700; Train-Loss: 0.008\n",
      "Epoch:  800; Train-Loss: 0.008\n",
      "Epoch:  900; Train-Loss: 0.008\n"
     ]
    }
   ],
   "source": [
    "train_fast(model, x_tf, y_tf, loss_function, optimizer, 1000)"
   ]
  },
  {
   "cell_type": "code",
   "execution_count": 36,
   "id": "macro-faith",
   "metadata": {},
   "outputs": [],
   "source": [
    "pred = model.predict(test_x)"
   ]
  },
  {
   "cell_type": "code",
   "execution_count": 37,
   "id": "preceding-array",
   "metadata": {},
   "outputs": [
    {
     "data": {
      "image/png": "[encoded data removed]",
      "text/plain": [
       "<Figure size 720x360 with 1 Axes>"
      ]
     },
     "metadata": {
      "needs_background": "light"
     },
     "output_type": "display_data"
    }
   ],
   "source": [
    "plt.figure(figsize=(10,5))\n",
    "plt.plot(x, gt, '.', label='Ground Truth')\n",
    "plt.plot(x, y, '.', label='Observations')\n",
    "plt.plot(test_x, pred, 'o--', label='Trained Prediction')\n",
    "plt.legend();"
   ]
  },
  {
   "cell_type": "code",
   "execution_count": 38,
   "id": "unexpected-religion",
   "metadata": {},
   "outputs": [
    {
     "name": "stdout",
     "output_type": "stream",
     "text": [
      "GT line:        y = 1.20*x + -4.00\n",
      "Predicted line: y = 0.92*x + -3.96\n"
     ]
    }
   ],
   "source": [
    "print('GT line:        y = {:2.2f}*x + {:2.2f}'.format(m, b))\n",
    "print('Predicted line: y = {:2.2f}*x + {:2.2f}'.format(float(model.neuron.weights[0]), float(model.neuron.bias)))"
   ]
  },
  {
   "cell_type": "code",
   "execution_count": null,
   "id": "artistic-plate",
   "metadata": {},
   "outputs": [],
   "source": []
  }
 ],
 "metadata": {
  "kernelspec": {
   "display_name": "Python 3",
   "language": "python",
   "name": "python3"
  },
  "language_info": {
   "codemirror_mode": {
    "name": "ipython",
    "version": 3
   },
   "file_extension": ".py",
   "mimetype": "text/x-python",
   "name": "python",
   "nbconvert_exporter": "python",
   "pygments_lexer": "ipython3",
   "version": "3.7.10"
  }
 },
 "nbformat": 4,
 "nbformat_minor": 5
}
